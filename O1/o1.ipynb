{
 "cells": [
  {
   "metadata": {},
   "cell_type": "markdown",
   "source": [
    "# MAL O1\n",
    "#### Gruppe 30\n",
    "#### September 2025\n",
    "\n",
    "Lasse Borring Petersen -\n",
    "\n",
    "Benjamin Harboe Strunge -\n",
    "\n",
    "Esben Inglev - 202210050\n"
   ],
   "id": "ee62eb4de243e5ee"
  },
  {
   "cell_type": "markdown",
   "id": "b13e3d6dfe65cf69",
   "metadata": {},
   "source": "## Modules and Classes"
  },
  {
   "cell_type": "markdown",
   "id": "f17993da2c32fa21",
   "metadata": {},
   "source": [
    "Path setup for libs:"
   ]
  },
  {
   "cell_type": "code",
   "id": "initial_id",
   "metadata": {
    "collapsed": true,
    "ExecuteTime": {
     "end_time": "2025-09-08T06:38:30.009536Z",
     "start_time": "2025-09-08T06:38:30.005382Z"
    }
   },
   "source": [
    "import sys,os\n",
    "sys.path.append(os.path.expanduser('./libitmal'))\n",
    "\n",
    "from libitmal import utils as itmalutils\n",
    "print(dir(itmalutils))\n",
    "print(itmalutils.__file__)"
   ],
   "outputs": [
    {
     "name": "stdout",
     "output_type": "stream",
     "text": [
      "['AssertInRange', 'CheckFloat', 'InRange', 'Iterable', 'PrintMatrix', 'ResetRandom', 'TEST', 'TestAll', 'TestCheckFloat', 'TestPrintMatrix', 'TestVarName', 'VarName', '__builtins__', '__cached__', '__doc__', '__file__', '__loader__', '__name__', '__package__', '__spec__', '__warningregistry__', 'ctxlib', 'inf', 'inspect', 'isFloat', 'isList', 'isNumpyArray', 'nan', 'np', 'random', 're']\n",
      "/Users/esbeninglev/Dropbox/Documents/Uni/6_semester/MAL_MachineLearning/mal_grp30/O1/libitmal/utils.py\n"
     ]
    }
   ],
   "execution_count": 23
  },
  {
   "cell_type": "markdown",
   "id": "8b934631b2f0b7bb",
   "metadata": {},
   "source": [
    "### Qa - Load and test libitmal"
   ]
  },
  {
   "cell_type": "code",
   "id": "287cd3ea27ac1aff",
   "metadata": {
    "ExecuteTime": {
     "end_time": "2025-09-08T06:38:30.081786Z",
     "start_time": "2025-09-08T06:38:30.077835Z"
    }
   },
   "source": [
    "from libitmal import utils as itmalutils\n",
    "\n",
    "itmalutils.TestAll()"
   ],
   "outputs": [
    {
     "name": "stdout",
     "output_type": "stream",
     "text": [
      "TestPrintMatrix...(no regression testing)\n",
      "X=[[   1.    2.]\n",
      "   [   3. -100.]\n",
      "   [   1.   -1.]]\n",
      "X=[[ 1.  2.]\n",
      "   ...\n",
      "   [ 1. -1.]]\n",
      "X=[[   1.\n",
      "       2.    ]\n",
      "   [   3.0001\n",
      "    -100.    ]\n",
      "   [   1.\n",
      "      -1.    ]]\n",
      "X=[[   1.    2.]\n",
      "   [   3. -100.]\n",
      "   [   1.   -1.]]\n",
      "OK\n",
      "TEST: OK\n",
      "ALL OK\n"
     ]
    }
   ],
   "execution_count": 24
  },
  {
   "cell_type": "markdown",
   "id": "49634c5f31396a29",
   "metadata": {},
   "source": [
    "### Qb Create your own module, with some functions, and test it"
   ]
  },
  {
   "metadata": {},
   "cell_type": "markdown",
   "source": "Below is two small printer functions placed in `malutils` and imported:",
   "id": "c01e8aed0a73688d"
  },
  {
   "cell_type": "code",
   "id": "3897df972d834c4a",
   "metadata": {
    "ExecuteTime": {
     "end_time": "2025-09-08T06:38:30.123137Z",
     "start_time": "2025-09-08T06:38:30.119956Z"
    }
   },
   "source": [
    "import malutils\n",
    "\n",
    "malutils.HelloWorld()\n",
    "malutils.Greeter(\"Pokemon!\")"
   ],
   "outputs": [
    {
     "name": "stdout",
     "output_type": "stream",
     "text": [
      "Hello World!\n",
      "Hello Pokemon!!\n"
     ]
    }
   ],
   "execution_count": 25
  },
  {
   "cell_type": "markdown",
   "id": "36344ab0d6724bb9",
   "metadata": {},
   "source": [
    "### Qc How do you 'recompile' a module?\n",
    "\n",
    "#### Answer\n",
    "Reload of modules can be done in serveral ways. One simple way is to just restart the kernal.\n",
    "Another is the code below."
   ]
  },
  {
   "cell_type": "code",
   "id": "2bfaa20b67d6c249",
   "metadata": {
    "ExecuteTime": {
     "end_time": "2025-09-08T06:38:30.144429Z",
     "start_time": "2025-09-08T06:38:30.138998Z"
    }
   },
   "source": [
    "import importlib\n",
    "importlib.reload(malutils)\n"
   ],
   "outputs": [
    {
     "data": {
      "text/plain": [
       "<module 'malutils' from '/Users/esbeninglev/Dropbox/Documents/Uni/6_semester/MAL_MachineLearning/mal_grp30/O1/malutils/__init__.py'>"
      ]
     },
     "execution_count": 26,
     "metadata": {},
     "output_type": "execute_result"
    }
   ],
   "execution_count": 26
  },
  {
   "metadata": {},
   "cell_type": "markdown",
   "source": [
    "### Qe Extend the class with some public and private functions and member variables\n",
    "\n",
    "#### Answers\n",
    "As can be seen below, private function and member variables are represented in python by two __ prefixed to the name.\n",
    "\n",
    "The meaning of `self` is that it is a reference to the class instance itself. Other languages have 'this' as a reference to the class instance itself.\n",
    "\n",
    "Calling a function without `self` in the parameter list is not allowed in python, as can be seen from the output of the exception catch."
   ],
   "id": "e1e00a3482dd44fa"
  },
  {
   "metadata": {
    "ExecuteTime": {
     "end_time": "2025-09-08T06:38:30.161458Z",
     "start_time": "2025-09-08T06:38:30.157093Z"
    }
   },
   "cell_type": "code",
   "source": [
    "class MyClass:\n",
    "    def myFun(self):\n",
    "        self.myvar = \"Public function\"\n",
    "        print(f\"This is a message inside the class, myvar={self.myvar}.\")\n",
    "\n",
    "    #private function\n",
    "    def __myfun(self):\n",
    "        self.myvar = \"Private\"\n",
    "        print(f\"This is a private message inside the class, myvar={self.myvar}.\")\n",
    "\n",
    "    def callToPrivate(self):\n",
    "        print(f\"Calling private function, myvar={self.myvar}.\")\n",
    "        self.__myfun()\n",
    "        print(\"Done with private function\")\n",
    "\n",
    "    def myFun2(): # this wont work!\n",
    "        print(\"No self\")\n",
    "\n",
    "\n",
    "instance = MyClass()\n",
    "\n",
    "instance.myFun()\n",
    "try:\n",
    "    instance.__myfun()\n",
    "except:\n",
    "    print(\"Exception: can't call private function\")\n",
    "\n",
    "instance.callToPrivate()\n",
    "try:\n",
    "    instance.myFun2()\n",
    "except:\n",
    "    print(\"Exception: no self class method!\")"
   ],
   "id": "847dbf64015ff7a7",
   "outputs": [
    {
     "name": "stdout",
     "output_type": "stream",
     "text": [
      "This is a message inside the class, myvar=Public function.\n",
      "Exception: can't call private function\n",
      "Calling private function, myvar=Public function.\n",
      "This is a private message inside the class, myvar=Private.\n",
      "Done with private function\n",
      "Exception: no self class method!\n"
     ]
    }
   ],
   "execution_count": 27
  },
  {
   "metadata": {},
   "cell_type": "markdown",
   "source": "### Qf Extend the class with a Constructor\n",
   "id": "bcdb1b3b85ded873"
  },
  {
   "metadata": {},
   "cell_type": "markdown",
   "source": [
    "#### Answers\n",
    "\n",
    "As can be seen below, the constructor is named \\_\\_init\\_\\_ and takes the 'self' parameter and an arbitrary number of parameters.\n",
    "There is no real destructor compared to the C++ destructor. Python is a managed language, so objects that are no longer in use are garbage collected.\n",
    "\n",
    "The \\_\\_del\\_\\_ function is not a destructor. It's just a function that gets called when the garbage collector destroys the instance."
   ],
   "id": "291e3c7173c0e491"
  },
  {
   "metadata": {
    "ExecuteTime": {
     "end_time": "2025-09-08T06:38:30.192621Z",
     "start_time": "2025-09-08T06:38:30.178629Z"
    }
   },
   "cell_type": "code",
   "source": [
    "class MyCtorClass:\n",
    "    def __init__(self,x):\n",
    "        self.x = x\n",
    "        print(f\"Constructor called with x={x}\")\n",
    "\n",
    "    def GetX(self):\n",
    "        return self.x\n",
    "\n",
    "ctorInstance = MyCtorClass(42)\n",
    "num = ctorInstance.GetX()\n",
    "print(f\"numn from instance = {num}\")\n"
   ],
   "id": "ddc67f41313ba89a",
   "outputs": [
    {
     "name": "stdout",
     "output_type": "stream",
     "text": [
      "Constructor called with x=42\n",
      "numn from instance = 42\n"
     ]
    }
   ],
   "execution_count": 28
  },
  {
   "metadata": {},
   "cell_type": "markdown",
   "source": [
    "### Qg Extend the class with a to-string function\n",
    "\n",
    "Below is a small class with a \"to string\" method:"
   ],
   "id": "601e1dfe043a51eb"
  },
  {
   "metadata": {
    "ExecuteTime": {
     "end_time": "2025-09-08T06:38:30.247611Z",
     "start_time": "2025-09-08T06:38:30.245197Z"
    }
   },
   "cell_type": "code",
   "source": [
    "class MyToStringClass:\n",
    "    def __init__(self,x):\n",
    "        self.x = x\n",
    "\n",
    "    def __str__(self):\n",
    "        return f\"MyToStringClass (x={self.x})\"\n",
    "\n",
    "strClass = MyToStringClass(420)\n",
    "print(strClass)"
   ],
   "id": "eec038b36bd3c73",
   "outputs": [
    {
     "name": "stdout",
     "output_type": "stream",
     "text": [
      "MyToStringClass (x=420)\n"
     ]
    }
   ],
   "execution_count": 29
  },
  {
   "cell_type": "markdown",
   "id": "6af36cd021d4d287",
   "metadata": {},
   "source": "## Intro"
  },
  {
   "cell_type": "code",
   "id": "18bee5c2fb80133",
   "metadata": {
    "ExecuteTime": {
     "end_time": "2025-09-08T06:38:30.372925Z",
     "start_time": "2025-09-08T06:38:30.315355Z"
    }
   },
   "source": [
    "import matplotlib.pyplot as plt\n",
    "import numpy as np\n",
    "import pandas as pd\n",
    "import sklearn.linear_model\n",
    "import os\n",
    "\n",
    "def prepare_country_stats(oecd_bli, gdp_per_capita):\n",
    "    oecd_bli = oecd_bli[oecd_bli[\"INEQUALITY\"]==\"TOT\"]\n",
    "    oecd_bli = oecd_bli.pivot(index=\"Country\", columns=\"Indicator\", values=\"Value\")\n",
    "    gdp_per_capita.rename(columns={\"2015\": \"GDP per capita\"}, inplace=True)\n",
    "    gdp_per_capita.set_index(\"Country\", inplace=True)\n",
    "    full_country_stats = pd.merge(left=oecd_bli, right=gdp_per_capita,\n",
    "                                  left_index=True, right_index=True)\n",
    "    full_country_stats.sort_values(by=\"GDP per capita\", inplace=True)\n",
    "    remove_indices = [0, 1, 6, 8, 33, 34, 35]\n",
    "    keep_indices = list(set(range(36)) - set(remove_indices))\n",
    "    return full_country_stats[[\"GDP per capita\", 'Life satisfaction']].iloc[keep_indices]\n",
    "\n",
    "datapath = os.path.join(\"./datasets\", \"lifesat\", \"\")\n",
    "\n",
    "# Load the data\n",
    "oecd_bli = pd.read_csv(datapath + \"oecd_bli_2015.csv\", thousands=',')\n",
    "gdp_per_capita = pd.read_csv(datapath + \"gdp_per_capita.csv\",thousands=',',delimiter='\\t',\n",
    "                             encoding='latin1', na_values=\"n/a\")\n",
    "\n",
    "# Prepare the data\n",
    "country_stats = prepare_country_stats(oecd_bli, gdp_per_capita)\n",
    "X = np.c_[country_stats[\"GDP per capita\"]]\n",
    "y = np.c_[country_stats[\"Life satisfaction\"]]\n",
    "\n",
    "# Visualize the data\n",
    "#country_stats.plot(kind='scatter', x=\"GDP per capita\", y='Life satisfaction')\n",
    "#plt.show()\n",
    "\n",
    "# Select a linear model\n",
    "model = sklearn.linear_model.LinearRegression()\n",
    "# Train the model\n",
    "model.fit(X, y)\n",
    "\n",
    "print(\"OK\")\n"
   ],
   "outputs": [
    {
     "name": "stdout",
     "output_type": "stream",
     "text": [
      "OK\n"
     ]
    }
   ],
   "execution_count": 30
  },
  {
   "cell_type": "markdown",
   "id": "44ca41148dde07e0",
   "metadata": {},
   "source": [
    "### Qa) The $\\theta$ parameters and the $R^2$ Score\n"
   ]
  },
  {
   "cell_type": "markdown",
   "id": "9ddea168e62fe2cf",
   "metadata": {},
   "source": [
    "### Answers\n",
    "\n",
    "Maximum for $R^2$ is 1.\n",
    "\n",
    "Minimum for $R^2$ is negative infinity. This is if the model makes predictions worse than just guessing the average, and can be a result of overfitting, bad test data etc.\n",
    "\n",
    "It's better to have a higher R^2 score. This measures the fitness of the model."
   ]
  },
  {
   "cell_type": "code",
   "id": "24539136189aedd2",
   "metadata": {
    "ExecuteTime": {
     "end_time": "2025-09-08T06:38:30.412955Z",
     "start_time": "2025-09-08T06:38:30.407411Z"
    }
   },
   "source": [
    "# skæring ved x-aksen\n",
    "theta_0 = model.intercept_\n",
    "# koefficienten\n",
    "theta_1 = model.coef_[0]\n",
    "print(f\"h(x) = {theta_0[0]:.4f} + {theta_1[0]}x\")\n",
    "\n",
    "u = np.sum((y - model.predict(X))**2)\n",
    "v = np.sum((y - np.mean(y))**2)\n",
    "\n",
    "R2 = 1 - u/v\n",
    "R2_skl = model.score(X, y)\n",
    "print(f\"R2 = {R2}\")\n",
    "print(f\"R2_skl = {R2_skl}\")"
   ],
   "outputs": [
    {
     "name": "stdout",
     "output_type": "stream",
     "text": [
      "h(x) = 4.8531 + 4.911544589158485e-05x\n",
      "R2 = 0.734441435543703\n",
      "R2_skl = 0.734441435543703\n"
     ]
    }
   ],
   "execution_count": 31
  },
  {
   "cell_type": "markdown",
   "id": "5cfdcf39d69e6de2",
   "metadata": {},
   "source": [
    "### Qb) Using k-Nearest Neighbors\n"
   ]
  },
  {
   "cell_type": "markdown",
   "id": "52ea7955f149e11c",
   "metadata": {},
   "source": [
    "### Answers\n",
    "\n",
    "KNN regressor also uses R^2 as a score, so in that regard they can be compared to each other. However, the knn model might overfit to the data, since k=3 allows for the model to fluctuate a bit."
   ]
  },
  {
   "cell_type": "code",
   "id": "980d20514f057dbe",
   "metadata": {
    "ExecuteTime": {
     "end_time": "2025-09-08T06:38:30.633204Z",
     "start_time": "2025-09-08T06:38:30.471125Z"
    }
   },
   "source": [
    "# Prepare the data\n",
    "X = np.c_[country_stats[\"GDP per capita\"]]\n",
    "y = np.c_[country_stats[\"Life satisfaction\"]]\n",
    "\n",
    "print(\"X.shape=\",X.shape)\n",
    "print(\"y.shape=\",y.shape)\n",
    "\n",
    "# Visualize the data\n",
    "country_stats.plot(kind='scatter', x=\"GDP per capita\", y='Life satisfaction')\n",
    "plt.show()\n",
    "\n",
    "# Select and train a model\n",
    "k = 3\n",
    "knn = sklearn.neighbors.KNeighborsRegressor(k)\n",
    "knn.fit(X, y)\n",
    "\n",
    "# Plot knn\n",
    "m = np.linspace(0, 60000, 1000)\n",
    "M = np.empty([m.shape[0], 1])\n",
    "M[:, 0] = m\n",
    "\n",
    "y_pred_lin = model.predict(M)  # Linear regression predictions\n",
    "y_pred_knn = knn.predict(M)\n",
    "\n",
    "# Create the plot\n",
    "country_stats.plot(kind='scatter', x=\"GDP per capita\", y='Life satisfaction', figsize=(8, 6))\n",
    "plt.axis([0, 60000, 0, 10])\n",
    "\n",
    "# Plot both model predictions\n",
    "plt.plot(m, y_pred_lin, \"r-\", label=\"Linear Regression\", linewidth=2)\n",
    "plt.plot(m, y_pred_knn, \"b--\", label=f\"KNN (k={k})\", linewidth=2)\n",
    "\n",
    "# Add labels and legend\n",
    "plt.xlabel(\"GDP per capita (USD)\")\n",
    "plt.ylabel(\"Life satisfaction\")\n",
    "plt.legend()\n",
    "plt.title(\"Comparison of Linear Regression vs KNN Regression\")\n",
    "plt.show()\n",
    "\n",
    "# Print model performance\n",
    "print(f\"Linear Regression Score (R²): {model.score(X, y):.3f}\")\n",
    "print(f\"KNN Score (R²): {knn.score(X, y):.3f}\")\n",
    "\n",
    "# Make prediction for Cyprus\n",
    "X_cyprus = [[22587]]\n",
    "lin_pred = model.predict(X_cyprus)\n",
    "knn_pred = knn.predict(X_cyprus)\n",
    "\n",
    "print(f\"\\nPredictions for Cyprus (GDP = 22587 USD):\")\n",
    "print(f\"Linear Regression: {lin_pred[0][0]:.2f}\")\n",
    "print(f\"KNN (k={k}): {knn_pred[0]}\")\n",
    "\n",
    "knn_score = knn.score(X, y)\n",
    "print(f\"KNN score              : {knn_score}\")\n",
    "print(f\"Linear Regression score: {R2_skl}\")\n"
   ],
   "outputs": [
    {
     "name": "stdout",
     "output_type": "stream",
     "text": [
      "X.shape= (29, 1)\n",
      "y.shape= (29, 1)\n"
     ]
    },
    {
     "data": {
      "text/plain": [
       "<Figure size 640x480 with 1 Axes>"
      ],
      "image/png": "[encoded data removed]"
     },
     "metadata": {},
     "output_type": "display_data"
    },
    {
     "data": {
      "text/plain": [
       "<Figure size 800x600 with 1 Axes>"
      ],
      "image/png": "[encoded data removed]"
     },
     "metadata": {},
     "output_type": "display_data"
    },
    {
     "name": "stdout",
     "output_type": "stream",
     "text": [
      "Linear Regression Score (R²): 0.734\n",
      "KNN Score (R²): 0.853\n",
      "\n",
      "Predictions for Cyprus (GDP = 22587 USD):\n",
      "Linear Regression: 5.96\n",
      "KNN (k=3): [5.76666667]\n",
      "KNN score              : 0.8525732853499179\n",
      "Linear Regression score: 0.734441435543703\n"
     ]
    }
   ],
   "execution_count": 32
  },
  {
   "cell_type": "markdown",
   "id": "be232cb282708caa",
   "metadata": {},
   "source": [
    "### Qc) Tuning Parameter for k-Nearest Neighbors and A Sanity Check\n"
   ]
  },
  {
   "cell_type": "markdown",
   "id": "d56c6f78cab845c",
   "metadata": {},
   "source": [
    "### Answers\n",
    "\n",
    "While a k = 1 produces a score $R^2$ of 1, this is highly overfitted, and would probably not produce accurate predictions on new data."
   ]
  },
  {
   "cell_type": "code",
   "id": "815410ae321abffc",
   "metadata": {
    "ExecuteTime": {
     "end_time": "2025-09-08T06:38:30.746398Z",
     "start_time": "2025-09-08T06:38:30.642518Z"
    }
   },
   "source": [
    "country_stats.plot(kind='scatter', x=\"GDP per capita\", y='Life satisfaction', figsize=(5,3))\n",
    "plt.axis([0, 60000, 0, 10])\n",
    "\n",
    "# create an test matrix M, with the same dimensionality as X, and in the range [0;60000]\n",
    "# and a step size of your choice\n",
    "m=np.linspace(0, 60000, 1000)\n",
    "M=np.empty([m.shape[0],1])\n",
    "M[:,0]=m\n",
    "\n",
    "# from this test M data, predict the y values via the lin.reg. and k-nearest models\n",
    "y_pred_lin = model.predict(M)\n",
    "y_pred_knn = knn.predict(M)   # ASSUMING the variable name 'knn' of your KNeighborsRegressor\n",
    "\n",
    "# use plt.plot to plot x-y into the sample_data plot..\n",
    "plt.plot(m, y_pred_lin, \"r\", label=\"Linear Regression\")\n",
    "plt.plot(m, y_pred_knn, \"b\", label=\"KNN (k=3)\")\n",
    "knn_score3 = knn.score(X, y)\n",
    "\n",
    "knn = sklearn.neighbors.KNeighborsRegressor(1)\n",
    "knn.fit(X, y)\n",
    "knn_score1 = knn.score(X, y)\n",
    "y_pred_knn1 = knn.predict(M)\n",
    "plt.plot(m, y_pred_knn1, \"y--\", label=\"KNN (k=1)\")\n",
    "\n",
    "knn = sklearn.neighbors.KNeighborsRegressor(2)\n",
    "knn.fit(X, y)\n",
    "knn_score2 = knn.score(X, y)\n",
    "y_pred_knn2 = knn.predict(M)\n",
    "plt.plot(m, y_pred_knn2, \"g--\", label=\"KNN (k=2)\")\n",
    "\n",
    "knn = sklearn.neighbors.KNeighborsRegressor(10)\n",
    "knn.fit(X, y)\n",
    "knn_score10 = knn.score(X, y)\n",
    "y_pred_knn10 = knn.predict(M)\n",
    "plt.plot(m, y_pred_knn10, \"k--\", label=\"KNN (k=10)\")\n",
    "\n",
    "plt.legend()\n",
    "plt.show()\n",
    "\n",
    "#scores\n",
    "print(f\"KNN score (k=1)   : {knn_score1}\")\n",
    "print(f\"KNN score (k=2)   : {knn_score2}\")\n",
    "print(f\"KNN score (k=3)   : {knn_score3}\")\n",
    "print(f\"KNN score (k=10)  : {knn_score10}\")\n",
    "print(f\"Linear Regression score: {R2_skl}\")"
   ],
   "outputs": [
    {
     "data": {
      "text/plain": [
       "<Figure size 500x300 with 1 Axes>"
      ],
      "image/png": "[encoded data removed]"
     },
     "metadata": {},
     "output_type": "display_data"
    },
    {
     "name": "stdout",
     "output_type": "stream",
     "text": [
      "KNN score (k=1)   : 1.0\n",
      "KNN score (k=2)   : 0.9091881835016248\n",
      "KNN score (k=3)   : 0.8525732853499179\n",
      "KNN score (k=10)  : 0.7833080605150065\n",
      "Linear Regression score: 0.734441435543703\n"
     ]
    }
   ],
   "execution_count": 33
  },
  {
   "cell_type": "markdown",
   "id": "f3337d2af27f0d50",
   "metadata": {},
   "source": [
    "### Qd) Trying out a Neural Network\n"
   ]
  },
  {
   "cell_type": "code",
   "id": "a924913c5a5c5fb1",
   "metadata": {
    "ExecuteTime": {
     "end_time": "2025-09-08T06:38:30.868348Z",
     "start_time": "2025-09-08T06:38:30.765855Z"
    }
   },
   "source": [
    "from sklearn.neural_network import MLPRegressor\n",
    "\n",
    "# Setup MLPRegressor\n",
    "mlp = MLPRegressor( hidden_layer_sizes=(10,), solver='adam', activation='relu', tol=1E-5, max_iter=100000, verbose=True)\n",
    "mlp.fit(X, y.ravel())\n",
    "\n",
    "# lets make a MLP regressor prediction and redo the plots\n",
    "y_pred_mlp = mlp.predict(M)\n",
    "\n",
    "mlp_score = mlp.score(X, y)\n",
    "\n",
    "plt.plot(m, y_pred_lin, \"r\", label=\"Linear Regression\")\n",
    "plt.plot(m, y_pred_knn, \"b\", label=\"KNN (k=3)\")\n",
    "plt.plot(m, y_pred_mlp, \"k\", label=\"MLP (h=10)\")\n",
    "\n",
    "plt.legend()\n",
    "plt.show()\n",
    "\n",
    "y_nn_pred = mlp.predict(X_cyprus)\n",
    "print(f\"Predictions for Cyprus (GDP = 22587 USD): {y_nn_pred[0]}\")\n",
    "\n",
    "# Scores\n",
    "print(f\"KNN score (k=3)   : {knn_score3}\")\n",
    "print(f\"Linear Regression score: {R2_skl}\")\n",
    "print(f\"MLP score         : {mlp_score}\")\n"
   ],
   "outputs": [
    {
     "name": "stdout",
     "output_type": "stream",
     "text": [
      "Iteration 1, loss = 1515616.74768544\n",
      "Iteration 2, loss = 1250629.27863541\n",
      "Iteration 3, loss = 1011804.72949636\n",
      "Iteration 4, loss = 799510.72422569\n",
      "Iteration 5, loss = 613906.62362988\n",
      "Iteration 6, loss = 454893.80796425\n",
      "Iteration 7, loss = 322061.13180212\n",
      "Iteration 8, loss = 214628.58402846\n",
      "Iteration 9, loss = 131394.52940466\n",
      "Iteration 10, loss = 70694.74218465\n",
      "Iteration 11, loss = 30384.20081758\n",
      "Iteration 12, loss = 7854.19725140\n",
      "Iteration 13, loss = 96.18817544\n",
      "Iteration 14, loss = 3818.54448556\n",
      "Iteration 15, loss = 15612.62203372\n",
      "Iteration 16, loss = 32152.21007219\n",
      "Iteration 17, loss = 50399.48478113\n",
      "Iteration 18, loss = 67785.84594203\n",
      "Iteration 19, loss = 82340.15334973\n",
      "Iteration 20, loss = 92748.65655655\n",
      "Iteration 21, loss = 98345.68450490\n",
      "Iteration 22, loss = 99046.61693016\n",
      "Iteration 23, loss = 95241.54942265\n",
      "Iteration 24, loss = 87669.13092016\n",
      "Training loss did not improve more than tol=0.000010 for 10 consecutive epochs. Stopping.\n"
     ]
    },
    {
     "data": {
      "text/plain": [
       "<Figure size 640x480 with 1 Axes>"
      ],
      "image/png": "[encoded data removed]"
     },
     "metadata": {},
     "output_type": "display_data"
    },
    {
     "name": "stdout",
     "output_type": "stream",
     "text": [
      "Predictions for Cyprus (GDP = 22587 USD): 247.50728622041933\n",
      "KNN score (k=3)   : 0.8525732853499179\n",
      "Linear Regression score: 0.734441435543703\n",
      "MLP score         : -227099.5836997188\n"
     ]
    }
   ],
   "execution_count": 34
  },
  {
   "metadata": {},
   "cell_type": "markdown",
   "source": "## Cost Function",
   "id": "c9c97fb205dce05f"
  },
  {
   "metadata": {},
   "cell_type": "markdown",
   "source": "### Qa Given the following $\\mathbf{x}^{(i)}$'s, construct and print the $\\mathbf X$ matrix in python.\n",
   "id": "dccbe76fad118ccb"
  },
  {
   "metadata": {},
   "cell_type": "markdown",
   "source": "Definitions of $x^{(i)}$'s is stripped from this pdf - can be found in original exercise notebook.",
   "id": "4d5579d6cfb45304"
  },
  {
   "metadata": {
    "ExecuteTime": {
     "end_time": "2025-09-08T06:38:30.884720Z",
     "start_time": "2025-09-08T06:38:30.882029Z"
    }
   },
   "cell_type": "code",
   "source": [
    "import numpy as np\n",
    "\n",
    "y_true = np.array([1,2,3,4]) # NOTE: you'll need this later\n",
    "X = np.array([[1,2,3],[4,2,1],[3,8,5],[-9,-1,0]])\n",
    "\n",
    "print(\"X_true = \\n\", X)"
   ],
   "id": "ea699728f45d25cd",
   "outputs": [
    {
     "name": "stdout",
     "output_type": "stream",
     "text": [
      "X_true = \n",
      " [[ 1  2  3]\n",
      " [ 4  2  1]\n",
      " [ 3  8  5]\n",
      " [-9 -1  0]]\n"
     ]
    }
   ],
   "execution_count": 35
  },
  {
   "metadata": {},
   "cell_type": "markdown",
   "source": [
    "#### Qb Implement the $\\norm{1}$ and $\\norm{2}$ norms for vectors in python.\n",
    "\n",
    "\n"
   ],
   "id": "ded02aa149e4d09"
  },
  {
   "metadata": {
    "ExecuteTime": {
     "end_time": "2025-09-08T06:38:30.905596Z",
     "start_time": "2025-09-08T06:38:30.901322Z"
    }
   },
   "cell_type": "code",
   "source": [
    "import math\n",
    "\n",
    "def L1(x):\n",
    "    assert x.ndim == 1\n",
    "    sum = 0\n",
    "    for i in range(len(x)):\n",
    "        current = x[i]\n",
    "        if current < 0:\n",
    "            current *= -1\n",
    "        sum += current\n",
    "    return sum\n",
    "\n",
    "def L2(x):\n",
    "    assert x.ndim == 1\n",
    "    sum = 0\n",
    "    for i in range(len(x)):\n",
    "        sum += x[i] ** 2\n",
    "    return sum ** 0.5\n",
    "\n",
    "def L2Dot(x):\n",
    "    assert x.ndim == 1 and isinstance(x, np.ndarray)\n",
    "    return x.dot(x)**0.5\n",
    "\n",
    "# TEST vectors: here I test your implementation...calling your L1() and L2() functions\n",
    "tx=np.array([1, 2, 3, -1])\n",
    "ty=np.array([3,-1, 4,  1])\n",
    "\n",
    "expected_d1=8.0\n",
    "expected_d2=4.242640687119285\n",
    "\n",
    "d1=L1(tx-ty)\n",
    "d2=L2(tx-ty)\n",
    "\n",
    "print(f\"tx-ty={tx-ty}, d1-expected_d1={d1-expected_d1}, d2-expected_d2={d2-expected_d2}\")\n",
    "\n",
    "eps=1E-9\n",
    "assert math.fabs(d1-expected_d1)<eps, \"L1 dist seems to be wrong\"\n",
    "assert math.fabs(d2-expected_d2)<eps, \"L2 dist seems to be wrong\"\n",
    "\n",
    "print(\"OK(part-1)\")\n",
    "\n",
    "d2dot=L2Dot(tx-ty)\n",
    "print(\"d2dot-expected_d2=\",d2dot-expected_d2)\n",
    "assert math.fabs(d2dot-expected_d2)<eps, \"L2Ddot dist seem to be wrong\"\n",
    "print(\"OK(part-2)\")"
   ],
   "id": "15d41369c827442d",
   "outputs": [
    {
     "name": "stdout",
     "output_type": "stream",
     "text": [
      "tx-ty=[-2  3 -1 -2], d1-expected_d1=0.0, d2-expected_d2=0.0\n",
      "OK(part-1)\n",
      "d2dot-expected_d2= 0.0\n",
      "OK(part-2)\n"
     ]
    }
   ],
   "execution_count": 36
  },
  {
   "metadata": {},
   "cell_type": "markdown",
   "source": "### Qc Construct the Root Mean Square Error (RMSE) function (Equation 2-1 [HOML]).",
   "id": "4bbabb156dd97c60"
  },
  {
   "metadata": {
    "ExecuteTime": {
     "end_time": "2025-09-08T06:38:30.931023Z",
     "start_time": "2025-09-08T06:38:30.921657Z"
    }
   },
   "cell_type": "code",
   "source": [
    "def RMSE(y_pred, y_true):\n",
    "    assert len(y_pred) == len(y_true) and y_pred.ndim == 1 and y_true.ndim == 1\n",
    "    err_vec = y_pred - y_true\n",
    "    l2 = L2(err_vec)\n",
    "    return l2 / len(err_vec)**0.5\n",
    "\n",
    "# Dummy h function:\n",
    "def h(X):\n",
    "    if X.ndim!=2:\n",
    "        raise ValueError(\"excpeted X to be of ndim=2, got ndim=\",X.ndim)\n",
    "    if X.shape[0]==0 or X.shape[1]==0:\n",
    "        raise ValueError(\"X got zero data along the 0/1 axis, cannot continue\")\n",
    "    return X[:,0]\n",
    "\n",
    "# Calls your RMSE() function:\n",
    "r=RMSE(h(X), y_true)\n",
    "\n",
    "eps=1E-9\n",
    "expected=6.57647321898295\n",
    "print(f\"RMSE={r}, diff={r-expected}\")\n",
    "assert math.fabs(r-expected)<eps, \"your RMSE dist seems to be wrong\"\n",
    "\n",
    "print(\"OK\")"
   ],
   "id": "19f5ce784b9a6bd7",
   "outputs": [
    {
     "name": "stdout",
     "output_type": "stream",
     "text": [
      "RMSE=6.576473218982953, diff=2.6645352591003757e-15\n",
      "OK\n"
     ]
    }
   ],
   "execution_count": 37
  },
  {
   "metadata": {},
   "cell_type": "markdown",
   "source": "#### Qd Similar construct the Mean Absolute Error (MAE) function (Equation 2-2 [HOML]) and evaluate it.",
   "id": "a3b95ab3385af3e5"
  },
  {
   "metadata": {},
   "cell_type": "code",
   "outputs": [],
   "execution_count": null,
   "source": [
    "def MAE(y_pred, y_true):\n",
    "    assert len(y_pred) == len(y_true) and y_pred.ndim == 1 and y_true.ndim == 1\n",
    "    err_vec = y_pred - y_true\n",
    "    return L1(err_vec) / len(err_vec)\n",
    "\n",
    "\n",
    "# Calls your MAE function:\n",
    "r=MAE(h(X), y_true)\n",
    "\n",
    "# TEST vector:\n",
    "expected=3.75\n",
    "print(f\"MAE={r}, diff={r-expected}\")\n",
    "assert math.fabs(r-expected)<eps, \"MAE dist seems to be wrong\"\n",
    "\n",
    "print(\"OK\")"
   ],
   "id": "c8bd69850f6c0af3"
  },
  {
   "metadata": {},
   "cell_type": "markdown",
   "source": [
    "### Qe Robust Code\n",
    "\n",
    "The functions above in this journal section are already made robust with asserts."
   ],
   "id": "6f96b2fefbfe49af"
  },
  {
   "metadata": {},
   "cell_type": "markdown",
   "source": [
    "### Qf Conclusion\n",
    "\n",
    "#### Answer\n",
    "\n",
    "Cost functions are at the basis of what the algorithms view as a success or not. A cost function is essentially, what the measure the machine should look for when training, or try to minimize. What lies behind the cost function is therefore essential. The $\\norm{1}$ and $\\norm{2}$ calculations are some of the key ingredients in the basic cost functions, and understanding how they work, and what they represent is key.\n",
    "\n",
    "When $\\norm{1}$ is used, the absolute errors are simply summed up. But the $\\norm{2}$ squares all of the errors, which means it is more sensitive to outlier data, and is more punishing at larger errors.\n"
   ],
   "id": "177ab8bf682f326b"
  },
  {
   "metadata": {},
   "cell_type": "markdown",
   "source": "## Dummy Classifier",
   "id": "c9fd0172e364530f"
  },
  {
   "metadata": {},
   "cell_type": "markdown",
   "source": "#### Qa  Load and display the MNIST data\n",
   "id": "d44a611fb01429ca"
  },
  {
   "metadata": {},
   "cell_type": "code",
   "outputs": [],
   "execution_count": null,
   "source": [
    "import matplotlib.pyplot as plt\n",
    "import matplotlib\n",
    "from sklearn.datasets import fetch_openml\n",
    "\n",
    "def MNIIST_GetDataSet():\n",
    "    X, y = fetch_openml('mnist_784', return_X_y=True, cache=True, as_frame=False)\n",
    "    return X, y\n",
    "\n",
    "X, y = MNIIST_GetDataSet()\n",
    "print(f\"Shape of X: {X.shape}\")"
   ],
   "id": "d3164043ebec12b5"
  },
  {
   "metadata": {},
   "cell_type": "code",
   "outputs": [],
   "execution_count": null,
   "source": [
    "def MNIST_PlotDigit(data):\n",
    "    image = data.reshape(28, 28)\n",
    "    plt.imshow(image, cmap = matplotlib.cm.binary)\n",
    "    plt.axis(\"off\")\n",
    "\n",
    "MNIST_PlotDigit(X[0])\n",
    "plt.show()"
   ],
   "id": "85b2ddae0ca6b07f"
  },
  {
   "metadata": {},
   "cell_type": "markdown",
   "source": "#### Qb  Add a Stochastic Gradient Decent [SGD] Classifier\n",
   "id": "6adf04b1c706e845"
  },
  {
   "metadata": {},
   "cell_type": "markdown",
   "source": "Below the data is split into train and test sets, and the SGD classifier is trained.",
   "id": "2afe4a4c716eede4"
  },
  {
   "metadata": {},
   "cell_type": "code",
   "outputs": [],
   "execution_count": null,
   "source": [
    "from sklearn.linear_model import SGDClassifier\n",
    "\n",
    "X_train, X_test, y_train, y_test = X[:50000], X[50000:], y[:50000], y[50000:]\n",
    "\n",
    "y_train_5 = (y_train == '5')\n",
    "y_test_5 = (y_test == '5')\n",
    "\n",
    "sgd_clf = SGDClassifier(random_state=42)\n",
    "sgd_clf.fit(X_train, y_train_5)\n",
    "\n",
    "sgd_predict_5 = sgd_clf.predict(X_test)"
   ],
   "id": "ec9aba2f1a0c66f"
  },
  {
   "metadata": {},
   "cell_type": "markdown",
   "source": "In order to print some correctly classified and incorrectly classified digits, we first get some of the indecies of these digits:",
   "id": "85e9a3b2124bbb2a"
  },
  {
   "metadata": {},
   "cell_type": "code",
   "outputs": [],
   "execution_count": null,
   "source": [
    "true_positives = []\n",
    "false_positives = []\n",
    "false_negatives = []\n",
    "for i in range(len(y_test_5)):\n",
    "    if y_test_5[i] == True and sgd_predict_5[i] == True:\n",
    "        true_positives.append(i)\n",
    "    elif y_test_5[i] == False and sgd_predict_5[i] == True:\n",
    "        false_positives.append(i)\n",
    "    elif y_test_5[i] == True and sgd_predict_5[i] == False:\n",
    "        false_negatives.append(i)\n",
    "print(f\"Number of true positives : {len(true_positives)}\")\n",
    "print(f\"Number of false positives: {len(false_positives)}\")\n",
    "print(f\"Number of false negatives: {len(false_negatives)}\")"
   ],
   "id": "b1093de55887ec6a"
  },
  {
   "metadata": {},
   "cell_type": "markdown",
   "source": "Now we plot some digits:",
   "id": "3a37c80e93bdceb2"
  },
  {
   "metadata": {},
   "cell_type": "code",
   "outputs": [],
   "execution_count": null,
   "source": [
    "# Plotting some true positives:\n",
    "def PlotMultiple(amount, indicies, X):\n",
    "    fig, axes = plt.subplots(1, amount, figsize=(12, 4))\n",
    "    for i in range(amount):\n",
    "        plt.subplot(1, amount, i + 1)\n",
    "        MNIST_PlotDigit(X[indicies[i]])\n",
    "\n",
    "    plt.tight_layout()\n",
    "    plt.show()\n",
    "\n",
    "PlotMultiple(10, true_positives, X_test)"
   ],
   "id": "2318e328a54a0440"
  },
  {
   "metadata": {},
   "cell_type": "code",
   "outputs": [],
   "execution_count": null,
   "source": [
    "# Plotting some false positives\n",
    "PlotMultiple(10, false_positives, X_test)"
   ],
   "id": "f363c007a2c393ba"
  },
  {
   "metadata": {},
   "cell_type": "code",
   "outputs": [],
   "execution_count": null,
   "source": [
    "# Plotting some false negatives\n",
    "PlotMultiple(10, false_negatives, X_test)"
   ],
   "id": "47e1dbc114ba231a"
  },
  {
   "metadata": {},
   "cell_type": "markdown",
   "source": "#### Qc Implement a dummy binary classifier\n",
   "id": "3a70d02f4583eb82"
  },
  {
   "metadata": {},
   "cell_type": "markdown",
   "source": "Below is a (very stupid) DummyClassifier, that simply takes in a 'strategy' and classifies everything as that strategy:",
   "id": "4e4c7c6dbc98b2ae"
  },
  {
   "metadata": {},
   "cell_type": "code",
   "outputs": [],
   "execution_count": null,
   "source": [
    "from sklearn.metrics import accuracy_score\n",
    "from sklearn.base import BaseEstimator, ClassifierMixin\n",
    "import numpy as np\n",
    "\n",
    "class DummyClassifier(BaseEstimator, ClassifierMixin):\n",
    "    def __init__(self, strategy):\n",
    "        self.strategy = strategy\n",
    "\n",
    "    def fit(self, X, y=None):\n",
    "        # Actually do nothing\n",
    "        return self\n",
    "\n",
    "    def predict(self, X):\n",
    "        n_samples = X.shape[0]\n",
    "        return np.full(n_samples, self.strategy)\n",
    "\n",
    "    def score(self, X, y):\n",
    "        y_pred = self.predict(X)\n",
    "        return accuracy_score(y, y_pred)"
   ],
   "id": "c165ef4df3a3fbef"
  },
  {
   "metadata": {},
   "cell_type": "markdown",
   "source": "Testing the classifier and printing the score:",
   "id": "e82cd29d256ea91a"
  },
  {
   "metadata": {},
   "cell_type": "code",
   "outputs": [],
   "execution_count": null,
   "source": [
    "dummy = DummyClassifier(False)\n",
    "dummy.fit(X_train, y_train_5)\n",
    "\n",
    "dummy_pred = dummy.predict(X_test)\n",
    "dummy_score = dummy.score(X_test, y_test_5)\n",
    "print(f\"dummy_score: {dummy_score}\")"
   ],
   "id": "d7c3908adfba02bb"
  },
  {
   "metadata": {},
   "cell_type": "markdown",
   "source": "### Qd Conclusion",
   "id": "ef6c08d0bd1fbb9b"
  },
  {
   "metadata": {},
   "cell_type": "markdown",
   "source": [
    "### Answer\n",
    "\n",
    "In general, this exercise was mostly about getting the basic machine learning and sklearn techniques into our fingers.\n",
    "Splitting the MNIST test set for common ML best practices, and creating a very basic binary classifier adds greatly to the understanding of how ML works - and also that it is not magic. Even a fairly simple human catagorization of \"5 or not 5\" turns out to be not so easy, as can be seen on the plots of the false positives and false negatives. This was quite revealing, as some of the 5's looks like they should be easily recognizable.\n",
    "\n",
    "Also, this exercise gave some insight into how python classes work together with the sklearn library, when creating our own classifier. Something that might be useful when a very specific type of classification is needed, or later in the course."
   ],
   "id": "f5b5006c40e8a1d6"
  }
 ],
 "metadata": {
  "kernelspec": {
   "display_name": "Python [conda env:base] *",
   "language": "python",
   "name": "conda-base-py"
  },
  "language_info": {
   "codemirror_mode": {
    "name": "ipython",
    "version": 3
   },
   "file_extension": ".py",
   "mimetype": "text/x-python",
   "name": "python",
   "nbconvert_exporter": "python",
   "pygments_lexer": "ipython3",
   "version": "3.13.5"
  }
 },
 "nbformat": 4,
 "nbformat_minor": 5
}
