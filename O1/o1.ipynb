{
 "cells": [
  {
   "cell_type": "markdown",
   "id": "b10a2b2e",
   "metadata": {},
   "source": [
    "# MAL O1\n",
    "\n",
    "## September 2025\n"
   ]
  },
  {
   "cell_type": "markdown",
   "id": "ee62eb4de243e5ee",
   "metadata": {},
   "source": [
    "| Gruppe 30 |\n",
    "| --------- |\n",
    "\n",
    "| Navn                    | Studienummer |\n",
    "| ----------------------- | ------------ |\n",
    "| Lasse Borring Petersen  | 202208165    |\n",
    "| Benjamin Harboe Strunge | 202209864    |\n",
    "| Esben Inglev            | 202210050    |\n",
    "| Asbjørn Vad             | 202208512    |\n"
   ]
  },
  {
   "cell_type": "markdown",
   "id": "b13e3d6dfe65cf69",
   "metadata": {},
   "source": [
    "# Modules and Classes\n"
   ]
  },
  {
   "cell_type": "markdown",
   "id": "f17993da2c32fa21",
   "metadata": {},
   "source": [
    "Path setup for libs:\n"
   ]
  },
  {
   "cell_type": "code",
   "execution_count": 1,
   "id": "initial_id",
   "metadata": {
    "ExecuteTime": {
     "end_time": "2025-09-11T09:22:47.092546Z",
     "start_time": "2025-09-11T09:22:47.029105Z"
    },
    "collapsed": true,
    "jupyter": {
     "outputs_hidden": true
    }
   },
   "outputs": [
    {
     "name": "stdout",
     "output_type": "stream",
     "text": [
      "['AssertInRange', 'CheckFloat', 'InRange', 'Iterable', 'PrintMatrix', 'ResetRandom', 'TEST', 'TestAll', 'TestCheckFloat', 'TestPrintMatrix', 'TestVarName', 'VarName', '__builtins__', '__cached__', '__doc__', '__file__', '__loader__', '__name__', '__package__', '__spec__', 'ctxlib', 'inf', 'inspect', 'isFloat', 'isList', 'isNumpyArray', 'nan', 'np', 'random', 're']\n",
      "/home/lassebp7/code/6.Semester/MAL/libitmal/utils.py\n"
     ]
    }
   ],
   "source": [
    "import sys,os\n",
    "sys.path.append(os.path.expanduser('./libitmal'))\n",
    "\n",
    "from libitmal import utils as itmalutils\n",
    "print(dir(itmalutils))\n",
    "print(itmalutils.__file__)"
   ]
  },
  {
   "cell_type": "markdown",
   "id": "8b934631b2f0b7bb",
   "metadata": {},
   "source": [
    "## Qa - Load and test libitmal\n"
   ]
  },
  {
   "cell_type": "markdown",
   "id": "d00ab22b",
   "metadata": {},
   "source": [
    "We import the library and run its test function\n"
   ]
  },
  {
   "cell_type": "code",
   "execution_count": 2,
   "id": "287cd3ea27ac1aff",
   "metadata": {
    "ExecuteTime": {
     "end_time": "2025-09-11T09:22:47.148966Z",
     "start_time": "2025-09-11T09:22:47.107992Z"
    }
   },
   "outputs": [
    {
     "name": "stdout",
     "output_type": "stream",
     "text": [
      "TestPrintMatrix...(no regression testing)\n",
      "X=[[   1.    2.]\n",
      "   [   3. -100.]\n",
      "   [   1.   -1.]]\n",
      "X=[[ 1.  2.]\n",
      "   ...\n",
      "   [ 1. -1.]]\n",
      "X=[[   1.\n",
      "       2.    ]\n",
      "   [   3.0001\n",
      "    -100.    ]\n",
      "   [   1.\n",
      "      -1.    ]]\n",
      "X=[[   1.    2.]\n",
      "   [   3. -100.]\n",
      "   [   1.   -1.]]\n",
      "OK\n",
      "TEST: OK\n",
      "ALL OK\n"
     ]
    }
   ],
   "source": [
    "from libitmal import utils as itmalutils\n",
    "\n",
    "itmalutils.TestAll()"
   ]
  },
  {
   "cell_type": "markdown",
   "id": "49634c5f31396a29",
   "metadata": {},
   "source": [
    "## Qb Create your own module, with some functions, and test it\n"
   ]
  },
  {
   "cell_type": "markdown",
   "id": "c01e8aed0a73688d",
   "metadata": {},
   "source": [
    "Below is two small printer functions placed in `malutils` and imported:\n"
   ]
  },
  {
   "cell_type": "code",
   "execution_count": 3,
   "id": "3897df972d834c4a",
   "metadata": {
    "ExecuteTime": {
     "end_time": "2025-09-11T09:22:47.178582Z",
     "start_time": "2025-09-11T09:22:47.174081Z"
    }
   },
   "outputs": [
    {
     "name": "stdout",
     "output_type": "stream",
     "text": [
      "Hello World!\n",
      "Hello Pokemon!!\n"
     ]
    }
   ],
   "source": [
    "import malutils\n",
    "\n",
    "malutils.HelloWorld()\n",
    "malutils.Greeter(\"Pokemon!\")"
   ]
  },
  {
   "cell_type": "markdown",
   "id": "36344ab0d6724bb9",
   "metadata": {},
   "source": [
    "## Qc How do you 'recompile' a module?\n",
    "\n",
    "### Answer\n",
    "\n",
    "Reload of modules can be done in serveral ways. One simple way is to just restart the kernal.\n",
    "Another is the code below.\n"
   ]
  },
  {
   "cell_type": "code",
   "execution_count": 4,
   "id": "2bfaa20b67d6c249",
   "metadata": {
    "ExecuteTime": {
     "end_time": "2025-09-11T09:22:47.204299Z",
     "start_time": "2025-09-11T09:22:47.199239Z"
    }
   },
   "outputs": [
    {
     "data": {
      "text/plain": [
       "<module 'malutils' from '/home/lassebp7/code/6.Semester/MAL/mal_grp30/O1/malutils/__init__.py'>"
      ]
     },
     "execution_count": 4,
     "metadata": {},
     "output_type": "execute_result"
    }
   ],
   "source": [
    "import importlib\n",
    "importlib.reload(malutils)\n"
   ]
  },
  {
   "cell_type": "markdown",
   "id": "587b5ae2",
   "metadata": {},
   "source": [
    "If you are using VSCode, it is also possible to add the following code to settings.json, which will make the notebook auto reload the module changes.\n",
    "\n",
    "```\n",
    "  \"jupyter.runStartupCommands\": [\"%load_ext autoreload\", \"%autoreload 2\"],\n",
    "```\n"
   ]
  },
  {
   "cell_type": "markdown",
   "id": "e1e00a3482dd44fa",
   "metadata": {},
   "source": [
    "## Qe Extend the class with some public and private functions and member variables\n",
    "\n",
    "### Answers\n",
    "\n",
    "As can be seen below, private function and member variables are represented in python by two \\_\\_ prefixed to the name.\n",
    "\n",
    "The meaning of `self` is that it is a reference to the class instance itself. Other languages have 'this' as a reference to the class instance itself.\n",
    "\n",
    "Calling a function without `self` in the parameter list is not allowed in python, as can be seen from the output of the exception catch.\n"
   ]
  },
  {
   "cell_type": "code",
   "execution_count": 5,
   "id": "847dbf64015ff7a7",
   "metadata": {
    "ExecuteTime": {
     "end_time": "2025-09-11T09:22:47.238623Z",
     "start_time": "2025-09-11T09:22:47.230247Z"
    }
   },
   "outputs": [
    {
     "name": "stdout",
     "output_type": "stream",
     "text": [
      "This is a message inside the class, myvar=Public function.\n",
      "Exception: can't call private function\n",
      "Calling private function, myvar=Public function.\n",
      "This is a private message inside the class, myvar=Private.\n",
      "Done with private function\n",
      "Exception: no self class method!\n"
     ]
    }
   ],
   "source": [
    "class MyClass:\n",
    "    def myFun(self):\n",
    "        self.myvar = \"Public function\"\n",
    "        print(f\"This is a message inside the class, myvar={self.myvar}.\")\n",
    "\n",
    "    #private function\n",
    "    def __myfun(self):\n",
    "        self.myvar = \"Private\"\n",
    "        print(f\"This is a private message inside the class, myvar={self.myvar}.\")\n",
    "\n",
    "    def callToPrivate(self):\n",
    "        print(f\"Calling private function, myvar={self.myvar}.\")\n",
    "        self.__myfun()\n",
    "        print(\"Done with private function\")\n",
    "\n",
    "    def myFun2(): # this wont work!\n",
    "        print(\"No self\")\n",
    "\n",
    "\n",
    "instance = MyClass()\n",
    "\n",
    "instance.myFun()\n",
    "try:\n",
    "    instance.__myfun()\n",
    "except:\n",
    "    print(\"Exception: can't call private function\")\n",
    "\n",
    "instance.callToPrivate()\n",
    "try:\n",
    "    instance.myFun2()\n",
    "except:\n",
    "    print(\"Exception: no self class method!\")"
   ]
  },
  {
   "cell_type": "markdown",
   "id": "bcdb1b3b85ded873",
   "metadata": {},
   "source": [
    "## Qf Extend the class with a Constructor\n"
   ]
  },
  {
   "cell_type": "markdown",
   "id": "291e3c7173c0e491",
   "metadata": {},
   "source": [
    "### Answers\n",
    "\n",
    "As can be seen below, the constructor is named \\_\\_init\\_\\_ and takes the 'self' parameter and an arbitrary number of parameters.\n",
    "There is no real destructor compared to the C++ destructor. Python is a managed language, so objects that are no longer in use are garbage collected.\n",
    "\n",
    "The \\_\\_del\\_\\_ function is not a destructor. It's just a function that gets called when the garbage collector destroys the instance.\n"
   ]
  },
  {
   "cell_type": "code",
   "execution_count": 6,
   "id": "ddc67f41313ba89a",
   "metadata": {
    "ExecuteTime": {
     "end_time": "2025-09-11T09:22:47.257402Z",
     "start_time": "2025-09-11T09:22:47.253716Z"
    }
   },
   "outputs": [
    {
     "name": "stdout",
     "output_type": "stream",
     "text": [
      "Constructor called with x=42\n",
      "numn from instance = 42\n"
     ]
    }
   ],
   "source": [
    "class MyCtorClass:\n",
    "    def __init__(self,x):\n",
    "        self.x = x\n",
    "        print(f\"Constructor called with x={x}\")\n",
    "\n",
    "    def GetX(self):\n",
    "        return self.x\n",
    "\n",
    "ctorInstance = MyCtorClass(42)\n",
    "num = ctorInstance.GetX()\n",
    "print(f\"numn from instance = {num}\")\n"
   ]
  },
  {
   "cell_type": "markdown",
   "id": "601e1dfe043a51eb",
   "metadata": {},
   "source": [
    "## Qg Extend the class with a to-string function\n",
    "\n",
    "Below is a small class with a \"to string\" method:\n"
   ]
  },
  {
   "cell_type": "code",
   "execution_count": 7,
   "id": "eec038b36bd3c73",
   "metadata": {
    "ExecuteTime": {
     "end_time": "2025-09-11T09:22:47.279658Z",
     "start_time": "2025-09-11T09:22:47.275786Z"
    }
   },
   "outputs": [
    {
     "name": "stdout",
     "output_type": "stream",
     "text": [
      "MyToStringClass (x=420)\n"
     ]
    }
   ],
   "source": [
    "class MyToStringClass:\n",
    "    def __init__(self,x):\n",
    "        self.x = x\n",
    "\n",
    "    def __str__(self):\n",
    "        return f\"MyToStringClass (x={self.x})\"\n",
    "\n",
    "strClass = MyToStringClass(420)\n",
    "print(strClass)"
   ]
  },
  {
   "cell_type": "markdown",
   "id": "6af36cd021d4d287",
   "metadata": {},
   "source": [
    "# Intro\n"
   ]
  },
  {
   "cell_type": "code",
   "execution_count": 8,
   "id": "18bee5c2fb80133",
   "metadata": {
    "ExecuteTime": {
     "end_time": "2025-09-11T09:22:50.001643Z",
     "start_time": "2025-09-11T09:22:47.298873Z"
    }
   },
   "outputs": [
    {
     "name": "stdout",
     "output_type": "stream",
     "text": [
      "OK\n"
     ]
    }
   ],
   "source": [
    "import matplotlib.pyplot as plt\n",
    "import numpy as np\n",
    "import pandas as pd\n",
    "import sklearn.linear_model\n",
    "import os\n",
    "\n",
    "def prepare_country_stats(oecd_bli, gdp_per_capita):\n",
    "    oecd_bli = oecd_bli[oecd_bli[\"INEQUALITY\"]==\"TOT\"]\n",
    "    oecd_bli = oecd_bli.pivot(index=\"Country\", columns=\"Indicator\", values=\"Value\")\n",
    "    gdp_per_capita.rename(columns={\"2015\": \"GDP per capita\"}, inplace=True)\n",
    "    gdp_per_capita.set_index(\"Country\", inplace=True)\n",
    "    full_country_stats = pd.merge(left=oecd_bli, right=gdp_per_capita,\n",
    "                                  left_index=True, right_index=True)\n",
    "    full_country_stats.sort_values(by=\"GDP per capita\", inplace=True)\n",
    "    remove_indices = [0, 1, 6, 8, 33, 34, 35]\n",
    "    keep_indices = list(set(range(36)) - set(remove_indices))\n",
    "    return full_country_stats[[\"GDP per capita\", 'Life satisfaction']].iloc[keep_indices]\n",
    "\n",
    "datapath = os.path.join(\"./datasets\", \"lifesat\", \"\")\n",
    "\n",
    "# Load the data\n",
    "oecd_bli = pd.read_csv(datapath + \"oecd_bli_2015.csv\", thousands=',')\n",
    "gdp_per_capita = pd.read_csv(datapath + \"gdp_per_capita.csv\",thousands=',',delimiter='\\t',\n",
    "                             encoding='latin1', na_values=\"n/a\")\n",
    "\n",
    "# Prepare the data\n",
    "country_stats = prepare_country_stats(oecd_bli, gdp_per_capita)\n",
    "X = np.c_[country_stats[\"GDP per capita\"]]\n",
    "y = np.c_[country_stats[\"Life satisfaction\"]]\n",
    "\n",
    "# Visualize the data\n",
    "#country_stats.plot(kind='scatter', x=\"GDP per capita\", y='Life satisfaction')\n",
    "#plt.show()\n",
    "\n",
    "# Select a linear model\n",
    "model = sklearn.linear_model.LinearRegression()\n",
    "# Train the model\n",
    "model.fit(X, y)\n",
    "\n",
    "print(\"OK\")\n"
   ]
  },
  {
   "cell_type": "markdown",
   "id": "44ca41148dde07e0",
   "metadata": {},
   "source": [
    "## Qa) The $\\theta$ parameters and the $R^2$ Score\n"
   ]
  },
  {
   "cell_type": "markdown",
   "id": "9ddea168e62fe2cf",
   "metadata": {},
   "source": [
    "### Answers\n",
    "\n",
    "Maximum for $R^2$ is 1.\n",
    "\n",
    "Minimum for $R^2$ is negative infinity. This is if the model makes predictions worse than just guessing the average, and can be a result of overfitting, bad test data etc.\n",
    "\n",
    "It's better to have a higher R^2 score. This measures the fitness of the model.\n"
   ]
  },
  {
   "cell_type": "code",
   "execution_count": 9,
   "id": "24539136189aedd2",
   "metadata": {
    "ExecuteTime": {
     "end_time": "2025-09-11T09:22:50.012047Z",
     "start_time": "2025-09-11T09:22:50.008832Z"
    }
   },
   "outputs": [
    {
     "name": "stdout",
     "output_type": "stream",
     "text": [
      "h(x) = 4.8531 + 4.911544589158484e-05x\n",
      "R2 = 0.7344414355437031\n",
      "R2_skl = 0.7344414355437031\n"
     ]
    }
   ],
   "source": [
    "# skæring ved x-aksen\n",
    "theta_0 = model.intercept_\n",
    "# koefficienten\n",
    "theta_1 = model.coef_[0]\n",
    "print(f\"h(x) = {theta_0[0]:.4f} + {theta_1[0]}x\")\n",
    "\n",
    "u = np.sum((y - model.predict(X))**2)\n",
    "v = np.sum((y - np.mean(y))**2)\n",
    "\n",
    "R2 = 1 - u/v\n",
    "R2_skl = model.score(X, y)\n",
    "print(f\"R2 = {R2}\")\n",
    "print(f\"R2_skl = {R2_skl}\")"
   ]
  },
  {
   "cell_type": "markdown",
   "id": "5cfdcf39d69e6de2",
   "metadata": {},
   "source": [
    "## Qb) Using k-Nearest Neighbors\n"
   ]
  },
  {
   "cell_type": "markdown",
   "id": "52ea7955f149e11c",
   "metadata": {},
   "source": [
    "### Answers\n",
    "\n",
    "KNN regressor also uses R^2 as a score, so in that regard they can be compared to each other. However, the knn model might overfit to the data, since k=3 allows for the model to fluctuate a bit.\n",
    "\n",
    "This information about the score function was found at the following locations in the documentation.\n",
    "\n",
    "Linear Reg\n",
    "https://scikit-learn.org/stable/modules/generated/sklearn.linear_model.LinearRegression.html#sklearn.linear_model.LinearRegression.score\n",
    "\n",
    "KNN\n",
    "https://scikit-learn.org/stable/modules/generated/sklearn.neighbors.KNeighborsRegressor.html#sklearn.neighbors.KNeighborsRegressor.score\n"
   ]
  },
  {
   "cell_type": "code",
   "execution_count": 10,
   "id": "980d20514f057dbe",
   "metadata": {
    "ExecuteTime": {
     "end_time": "2025-09-11T09:22:50.235627Z",
     "start_time": "2025-09-11T09:22:50.034444Z"
    }
   },
   "outputs": [
    {
     "name": "stdout",
     "output_type": "stream",
     "text": [
      "X.shape= (29, 1)\n",
      "y.shape= (29, 1)\n"
     ]
    },
    {
     "data": {
      "image/png": "[encoded data removed]",
      "text/plain": [
       "<Figure size 640x480 with 1 Axes>"
      ]
     },
     "metadata": {},
     "output_type": "display_data"
    },
    {
     "data": {
      "image/png": "[encoded data removed]",
      "text/plain": [
       "<Figure size 800x600 with 1 Axes>"
      ]
     },
     "metadata": {},
     "output_type": "display_data"
    },
    {
     "name": "stdout",
     "output_type": "stream",
     "text": [
      "Linear Regression Score (R²): 0.734\n",
      "KNN Score (R²): 0.853\n",
      "\n",
      "Predictions for Cyprus (GDP = 22587 USD):\n",
      "Linear Regression: 5.96\n",
      "KNN (k=3): [5.76666667]\n",
      "KNN score              : 0.8525732853499179\n",
      "Linear Regression score: 0.7344414355437031\n"
     ]
    }
   ],
   "source": [
    "# Prepare the data\n",
    "X = np.c_[country_stats[\"GDP per capita\"]]\n",
    "y = np.c_[country_stats[\"Life satisfaction\"]]\n",
    "\n",
    "print(\"X.shape=\",X.shape)\n",
    "print(\"y.shape=\",y.shape)\n",
    "\n",
    "# Visualize the data\n",
    "country_stats.plot(kind='scatter', x=\"GDP per capita\", y='Life satisfaction')\n",
    "plt.show()\n",
    "\n",
    "# Select and train a model\n",
    "k = 3\n",
    "knn = sklearn.neighbors.KNeighborsRegressor(k)\n",
    "knn.fit(X, y)\n",
    "\n",
    "# Plot knn\n",
    "m = np.linspace(0, 60000, 1000)\n",
    "M = np.empty([m.shape[0], 1])\n",
    "M[:, 0] = m\n",
    "\n",
    "y_pred_lin = model.predict(M)  # Linear regression predictions\n",
    "y_pred_knn = knn.predict(M)\n",
    "\n",
    "# Create the plot\n",
    "country_stats.plot(kind='scatter', x=\"GDP per capita\", y='Life satisfaction', figsize=(8, 6))\n",
    "plt.axis([0, 60000, 0, 10])\n",
    "\n",
    "# Plot both model predictions\n",
    "plt.plot(m, y_pred_lin, \"r-\", label=\"Linear Regression\", linewidth=2)\n",
    "plt.plot(m, y_pred_knn, \"b--\", label=f\"KNN (k={k})\", linewidth=2)\n",
    "\n",
    "# Add labels and legend\n",
    "plt.xlabel(\"GDP per capita (USD)\")\n",
    "plt.ylabel(\"Life satisfaction\")\n",
    "plt.legend()\n",
    "plt.title(\"Comparison of Linear Regression vs KNN Regression\")\n",
    "plt.show()\n",
    "\n",
    "# Print model performance\n",
    "print(f\"Linear Regression Score (R²): {model.score(X, y):.3f}\")\n",
    "print(f\"KNN Score (R²): {knn.score(X, y):.3f}\")\n",
    "\n",
    "# Make prediction for Cyprus\n",
    "X_cyprus = [[22587]]\n",
    "lin_pred = model.predict(X_cyprus)\n",
    "knn_pred = knn.predict(X_cyprus)\n",
    "\n",
    "print(f\"\\nPredictions for Cyprus (GDP = 22587 USD):\")\n",
    "print(f\"Linear Regression: {lin_pred[0][0]:.2f}\")\n",
    "print(f\"KNN (k={k}): {knn_pred[0]}\")\n",
    "\n",
    "knn_score = knn.score(X, y)\n",
    "print(f\"KNN score              : {knn_score}\")\n",
    "print(f\"Linear Regression score: {R2_skl}\")\n"
   ]
  },
  {
   "cell_type": "markdown",
   "id": "be232cb282708caa",
   "metadata": {},
   "source": [
    "## Qc) Tuning Parameter for k-Nearest Neighbors and A Sanity Check\n"
   ]
  },
  {
   "cell_type": "markdown",
   "id": "d56c6f78cab845c",
   "metadata": {},
   "source": [
    "### Answers\n",
    "\n",
    "#### K=1 gives score 1\n",
    "\n",
    "This obviously looks good because of what is discussed earlier about higher R2 values, but by looking at the graph, it just fits the model 100%, because it just draws a line between each point. This means it has no idea how to predict anything depending on the training data, and it will just predict the training data value closest to whatever value we are trying to predict using the model.\n",
    "\n",
    "#### k=5, k=10...\n",
    "\n",
    "The model uses more neighbors to predict new data, where the higher k means it looks at more neighbors to make its prediction. This will make the generalization better, but lower the training score and the R2 value.\n",
    "\n",
    "#### k20...\n",
    "\n",
    "When setting the neighbor count this high in with this data, we get severe underfitting, where the line just becomes straight, since it factors in all data points every time.\n"
   ]
  },
  {
   "cell_type": "code",
   "execution_count": 11,
   "id": "815410ae321abffc",
   "metadata": {
    "ExecuteTime": {
     "end_time": "2025-09-11T09:22:50.306220Z",
     "start_time": "2025-09-11T09:22:50.247651Z"
    }
   },
   "outputs": [
    {
     "data": {
      "image/png": "[encoded data removed]",
      "text/plain": [
       "<Figure size 500x300 with 1 Axes>"
      ]
     },
     "metadata": {},
     "output_type": "display_data"
    },
    {
     "name": "stdout",
     "output_type": "stream",
     "text": [
      "KNN score (k=1)   : 1.0\n",
      "KNN score (k=2)   : 0.9091881835016248\n",
      "KNN score (k=3)   : 0.8525732853499179\n",
      "KNN score (k=10)  : 0.7833080605150065\n",
      "Linear Regression score: 0.7344414355437031\n"
     ]
    }
   ],
   "source": [
    "country_stats.plot(kind='scatter', x=\"GDP per capita\", y='Life satisfaction', figsize=(5,3))\n",
    "plt.axis([0, 60000, 0, 10])\n",
    "\n",
    "# create an test matrix M, with the same dimensionality as X, and in the range [0;60000]\n",
    "# and a step size of your choice\n",
    "m=np.linspace(0, 60000, 1000)\n",
    "M=np.empty([m.shape[0],1])\n",
    "M[:,0]=m\n",
    "\n",
    "# from this test M data, predict the y values via the lin.reg. and k-nearest models\n",
    "y_pred_lin = model.predict(M)\n",
    "y_pred_knn = knn.predict(M)   # ASSUMING the variable name 'knn' of your KNeighborsRegressor\n",
    "\n",
    "# use plt.plot to plot x-y into the sample_data plot..\n",
    "plt.plot(m, y_pred_lin, \"r\", label=\"Linear Regression\")\n",
    "plt.plot(m, y_pred_knn, \"b\", label=\"KNN (k=3)\")\n",
    "knn_score3 = knn.score(X, y)\n",
    "\n",
    "knn = sklearn.neighbors.KNeighborsRegressor(1)\n",
    "knn.fit(X, y)\n",
    "knn_score1 = knn.score(X, y)\n",
    "y_pred_knn1 = knn.predict(M)\n",
    "plt.plot(m, y_pred_knn1, \"y--\", label=\"KNN (k=1)\")\n",
    "\n",
    "knn = sklearn.neighbors.KNeighborsRegressor(2)\n",
    "knn.fit(X, y)\n",
    "knn_score2 = knn.score(X, y)\n",
    "y_pred_knn2 = knn.predict(M)\n",
    "plt.plot(m, y_pred_knn2, \"g--\", label=\"KNN (k=2)\")\n",
    "\n",
    "knn = sklearn.neighbors.KNeighborsRegressor(10)\n",
    "knn.fit(X, y)\n",
    "knn_score10 = knn.score(X, y)\n",
    "y_pred_knn10 = knn.predict(M)\n",
    "plt.plot(m, y_pred_knn10, \"k--\", label=\"KNN (k=10)\")\n",
    "\n",
    "plt.legend()\n",
    "plt.show()\n",
    "\n",
    "#scores\n",
    "print(f\"KNN score (k=1)   : {knn_score1}\")\n",
    "print(f\"KNN score (k=2)   : {knn_score2}\")\n",
    "print(f\"KNN score (k=3)   : {knn_score3}\")\n",
    "print(f\"KNN score (k=10)  : {knn_score10}\")\n",
    "print(f\"Linear Regression score: {R2_skl}\")"
   ]
  },
  {
   "cell_type": "markdown",
   "id": "f3337d2af27f0d50",
   "metadata": {},
   "source": [
    "## Qd) Trying out a Neural Network\n"
   ]
  },
  {
   "cell_type": "code",
   "execution_count": 12,
   "id": "a924913c5a5c5fb1",
   "metadata": {
    "ExecuteTime": {
     "end_time": "2025-09-11T09:22:50.382270Z",
     "start_time": "2025-09-11T09:22:50.313872Z"
    }
   },
   "outputs": [
    {
     "name": "stdout",
     "output_type": "stream",
     "text": [
      "Iteration 1, loss = 61060538.53562827\n",
      "Iteration 2, loss = 59751929.70751245\n",
      "Iteration 3, loss = 58459496.36499680\n",
      "Iteration 4, loss = 57183456.04297394\n",
      "Iteration 5, loss = 55924014.05871172\n",
      "Iteration 6, loss = 54681362.85123138\n",
      "Iteration 7, loss = 53455681.38170152\n",
      "Iteration 8, loss = 52247134.59925080\n",
      "Iteration 9, loss = 51055872.97581661\n",
      "Iteration 10, loss = 49882032.11282311\n",
      "Iteration 11, loss = 48725732.42162992\n",
      "Iteration 12, loss = 47587078.87883642\n",
      "Iteration 13, loss = 46466160.85667907\n",
      "Iteration 14, loss = 45363052.02793609\n",
      "Iteration 15, loss = 44277810.34397355\n",
      "Iteration 16, loss = 43210478.08383708\n",
      "Iteration 17, loss = 42161081.97162931\n",
      "Iteration 18, loss = 41129633.35882106\n",
      "Iteration 19, loss = 40116128.46763241\n",
      "Iteration 20, loss = 39120548.69119026\n",
      "Iteration 21, loss = 38142860.94582679\n",
      "Iteration 22, loss = 37183018.07062516\n",
      "Iteration 23, loss = 36240959.26914561\n",
      "Iteration 24, loss = 35316610.58817180\n",
      "Iteration 25, loss = 34409885.42829854\n",
      "Iteration 26, loss = 33520685.08123367\n",
      "Iteration 27, loss = 32648899.28879875\n",
      "Iteration 28, loss = 31794406.81878161\n",
      "Iteration 29, loss = 30957076.05300662\n",
      "Iteration 30, loss = 30136765.58324141\n",
      "Iteration 31, loss = 29333324.81084160\n",
      "Iteration 32, loss = 28546594.54634061\n",
      "Iteration 33, loss = 27776407.60551376\n",
      "Iteration 34, loss = 27022589.39877597\n",
      "Iteration 35, loss = 26284958.51110706\n",
      "Iteration 36, loss = 25563327.27002973\n",
      "Iteration 37, loss = 24857502.29949066\n",
      "Iteration 38, loss = 24167285.05780973\n",
      "Iteration 39, loss = 23492472.35816230\n",
      "Iteration 40, loss = 22832856.87034435\n",
      "Iteration 41, loss = 22188227.60283551\n",
      "Iteration 42, loss = 21558370.36442200\n",
      "Iteration 43, loss = 20943068.20486693\n",
      "Iteration 44, loss = 20342101.83432039\n",
      "Iteration 45, loss = 19755250.02134690\n",
      "Iteration 46, loss = 19182289.96961075\n",
      "Iteration 47, loss = 18622997.67340457\n",
      "Iteration 48, loss = 18077148.25233137\n",
      "Iteration 49, loss = 17544516.26555765\n",
      "Iteration 50, loss = 17024876.00614551\n",
      "Iteration 51, loss = 16518001.77604657\n",
      "Iteration 52, loss = 16023668.14240081\n",
      "Iteration 53, loss = 15541650.17583079\n",
      "Iteration 54, loss = 15071723.67145742\n",
      "Iteration 55, loss = 14613665.35338808\n",
      "Iteration 56, loss = 14167253.06344336\n",
      "Iteration 57, loss = 13732265.93489634\n",
      "Iteration 58, loss = 13308484.55199776\n",
      "Iteration 59, loss = 12895691.09605485\n",
      "Iteration 60, loss = 12493669.47881982\n",
      "Iteration 61, loss = 12102205.46392832\n",
      "Iteration 62, loss = 11721086.77710861\n",
      "Iteration 63, loss = 11350103.20586007\n",
      "Iteration 64, loss = 10989046.68927456\n",
      "Iteration 65, loss = 10637711.39864790\n",
      "Iteration 66, loss = 10295893.80950118\n",
      "Iteration 67, loss = 9963392.76560253\n",
      "Iteration 68, loss = 9640009.53555160\n",
      "Iteration 69, loss = 9325547.86245927\n",
      "Iteration 70, loss = 9019814.00722647\n",
      "Iteration 71, loss = 8722616.78589711\n",
      "Iteration 72, loss = 8433767.60153212\n",
      "Iteration 73, loss = 8153080.47102413\n",
      "Iteration 74, loss = 7880372.04724586\n",
      "Iteration 75, loss = 7615461.63689943\n",
      "Iteration 76, loss = 7358171.21440957\n",
      "Iteration 77, loss = 7108325.43217969\n",
      "Iteration 78, loss = 6865751.62750755\n",
      "Iteration 79, loss = 6630279.82643608\n",
      "Iteration 80, loss = 6401738.35993741\n",
      "Iteration 81, loss = 6145395.28692798\n",
      "Iteration 82, loss = 5895096.47892349\n",
      "Iteration 83, loss = 5641082.09335678\n",
      "Iteration 84, loss = 5387529.87051061\n",
      "Iteration 85, loss = 5136741.08773681\n",
      "Iteration 86, loss = 4890196.51635802\n",
      "Iteration 87, loss = 4648917.17622123\n",
      "Iteration 88, loss = 4413630.87438056\n",
      "Iteration 89, loss = 4184862.95012711\n",
      "Iteration 90, loss = 3962991.29323064\n",
      "Iteration 91, loss = 3748282.29086983\n",
      "Iteration 92, loss = 3540915.64745898\n",
      "Iteration 93, loss = 3341002.26308737\n",
      "Iteration 94, loss = 3148597.54963485\n",
      "Iteration 95, loss = 2963711.62009995\n",
      "Iteration 96, loss = 2786317.26034872\n",
      "Iteration 97, loss = 2616356.28267959\n",
      "Iteration 98, loss = 2453744.66989798\n",
      "Iteration 99, loss = 2298376.79668709\n",
      "Iteration 100, loss = 2150128.93456725\n",
      "Iteration 101, loss = 2008862.19207264\n",
      "Iteration 102, loss = 1874425.00372845\n",
      "Iteration 103, loss = 1746655.25434931\n",
      "Iteration 104, loss = 1625382.10555395\n",
      "Iteration 105, loss = 1510427.57690677\n",
      "Iteration 106, loss = 1401607.92323804\n",
      "Iteration 107, loss = 1298734.84143411\n",
      "Iteration 108, loss = 1201616.53362133\n",
      "Iteration 109, loss = 1110058.64869818\n",
      "Iteration 110, loss = 1023865.12024646\n",
      "Iteration 111, loss = 942838.91572112\n",
      "Iteration 112, loss = 866782.70929301\n",
      "Iteration 113, loss = 795499.48866245\n",
      "Iteration 114, loss = 728793.10447171\n",
      "Iteration 115, loss = 666468.76954242\n",
      "Iteration 116, loss = 608333.51399256\n",
      "Iteration 117, loss = 554196.60129934\n",
      "Iteration 118, loss = 503869.90953676\n",
      "Iteration 119, loss = 457168.28129977\n",
      "Iteration 120, loss = 413909.84521294\n",
      "Iteration 121, loss = 373916.31139098\n",
      "Iteration 122, loss = 337013.24276094\n",
      "Iteration 123, loss = 303030.30375994\n",
      "Iteration 124, loss = 271801.48758110\n",
      "Iteration 125, loss = 243165.32284776\n",
      "Iteration 126, loss = 216965.06034723\n",
      "Iteration 127, loss = 193048.84024745\n",
      "Iteration 128, loss = 171269.84005009\n",
      "Iteration 129, loss = 151486.40339927\n",
      "Iteration 130, loss = 133561.44587336\n",
      "Iteration 131, loss = 113141.86445506\n",
      "Iteration 132, loss = 93817.33901544\n",
      "Iteration 133, loss = 75867.97601406\n",
      "Iteration 134, loss = 59669.22514203\n",
      "Iteration 135, loss = 45422.71308673\n",
      "Iteration 136, loss = 33221.60008354\n",
      "Iteration 137, loss = 23082.87961728\n",
      "Iteration 138, loss = 14964.52130438\n",
      "Iteration 139, loss = 8775.28545494\n",
      "Iteration 140, loss = 4380.70699633\n",
      "Iteration 141, loss = 1607.08753353\n",
      "Iteration 142, loss = 244.67767549\n",
      "Iteration 143, loss = 51.09192626\n",
      "Iteration 144, loss = 756.46404352\n",
      "Iteration 145, loss = 2073.12425559\n",
      "Iteration 146, loss = 3713.34683800\n",
      "Iteration 147, loss = 5414.97213456\n",
      "Iteration 148, loss = 6966.48101915\n",
      "Iteration 149, loss = 8220.85816319\n",
      "Iteration 150, loss = 9095.60042815\n",
      "Iteration 151, loss = 9563.60706210\n",
      "Iteration 152, loss = 9640.42368537\n",
      "Iteration 153, loss = 9371.18907225\n",
      "Iteration 154, loss = 8818.90350286\n",
      "Training loss did not improve more than tol=0.000010 for 10 consecutive epochs. Stopping.\n"
     ]
    },
    {
     "data": {
      "image/png": "[encoded data removed]",
      "text/plain": [
       "<Figure size 640x480 with 1 Axes>"
      ]
     },
     "metadata": {},
     "output_type": "display_data"
    },
    {
     "name": "stdout",
     "output_type": "stream",
     "text": [
      "Predictions for Cyprus (GDP = 22587 USD): 82.76600900507204\n",
      "KNN score (k=3)   : 0.8525732853499179\n",
      "Linear Regression score: 0.7344414355437031\n",
      "MLP score         : -23666.941812336438\n"
     ]
    }
   ],
   "source": [
    "from sklearn.neural_network import MLPRegressor\n",
    "\n",
    "# Setup MLPRegressor\n",
    "mlp = MLPRegressor( hidden_layer_sizes=(10,), solver='adam', activation='relu', tol=1E-5, max_iter=100000, verbose=True)\n",
    "mlp.fit(X, y.ravel())\n",
    "\n",
    "# lets make a MLP regressor prediction and redo the plots\n",
    "y_pred_mlp = mlp.predict(M)\n",
    "\n",
    "mlp_score = mlp.score(X, y)\n",
    "\n",
    "plt.plot(m, y_pred_lin, \"r\", label=\"Linear Regression\")\n",
    "plt.plot(m, y_pred_knn, \"b\", label=\"KNN (k=3)\")\n",
    "plt.plot(m, y_pred_mlp, \"k\", label=\"MLP (h=10)\")\n",
    "\n",
    "plt.legend()\n",
    "plt.show()\n",
    "\n",
    "y_nn_pred = mlp.predict(X_cyprus)\n",
    "print(f\"Predictions for Cyprus (GDP = 22587 USD): {y_nn_pred[0]}\")\n",
    "\n",
    "# Scores\n",
    "print(f\"KNN score (k=3)   : {knn_score3}\")\n",
    "print(f\"Linear Regression score: {R2_skl}\")\n",
    "print(f\"MLP score         : {mlp_score}\")\n"
   ]
  },
  {
   "cell_type": "markdown",
   "id": "206347c4",
   "metadata": {},
   "source": [
    "### Qd Answers\n",
    "\n",
    "**Can the score for MLP be compared with LinReg and KNN?**\n",
    "\n",
    "Yes, in the docs for the MLP's score function, it is calculated the same way as they are in both other fits, so they can be compared.\n",
    "For the MLP, we get a pretty bad fit, as we can see in both the negative R2 score, and by looking at the plot.\n",
    "\n",
    "https://scikit-learn.org/stable/modules/generated/sklearn.neural_network.MLPRegressor.html#sklearn.neural_network.MLPRegressor.score\n"
   ]
  },
  {
   "cell_type": "markdown",
   "id": "c9c97fb205dce05f",
   "metadata": {},
   "source": [
    "# Cost Function\n"
   ]
  },
  {
   "cell_type": "markdown",
   "id": "dccbe76fad118ccb",
   "metadata": {},
   "source": [
    "## Qa Given the following $\\mathbf{x}^{(i)}$'s, construct and print the $\\mathbf X$ matrix in python.\n"
   ]
  },
  {
   "cell_type": "markdown",
   "id": "4d5579d6cfb45304",
   "metadata": {},
   "source": [
    "Definitions of $x^{(i)}$'s is stripped from this pdf - can be found in original exercise notebook.\n"
   ]
  },
  {
   "cell_type": "code",
   "execution_count": 13,
   "id": "ea699728f45d25cd",
   "metadata": {
    "ExecuteTime": {
     "end_time": "2025-09-11T09:22:50.392184Z",
     "start_time": "2025-09-11T09:22:50.389845Z"
    }
   },
   "outputs": [
    {
     "name": "stdout",
     "output_type": "stream",
     "text": [
      "X_true = \n",
      " [[ 1  2  3]\n",
      " [ 4  2  1]\n",
      " [ 3  8  5]\n",
      " [-9 -1  0]]\n"
     ]
    }
   ],
   "source": [
    "import numpy as np\n",
    "\n",
    "y_true = np.array([1,2,3,4]) # NOTE: you'll need this later\n",
    "X = np.array([[1,2,3],[4,2,1],[3,8,5],[-9,-1,0]])\n",
    "\n",
    "print(\"X_true = \\n\", X)"
   ]
  },
  {
   "cell_type": "markdown",
   "id": "ded02aa149e4d09",
   "metadata": {},
   "source": [
    "## Qb Implement the L1 and L2 norms for vectors in python.\n"
   ]
  },
  {
   "cell_type": "markdown",
   "id": "147cf5b1",
   "metadata": {},
   "source": [
    "Defined without using any methods from libraries, og python primitives.\n"
   ]
  },
  {
   "cell_type": "code",
   "execution_count": 14,
   "id": "15d41369c827442d",
   "metadata": {
    "ExecuteTime": {
     "end_time": "2025-09-11T09:22:50.412994Z",
     "start_time": "2025-09-11T09:22:50.409339Z"
    }
   },
   "outputs": [
    {
     "name": "stdout",
     "output_type": "stream",
     "text": [
      "tx-ty=[-2  3 -1 -2], d1-expected_d1=0.0, d2-expected_d2=0.0\n",
      "OK(part-1)\n",
      "d2dot-expected_d2= 0.0\n",
      "OK(part-2)\n"
     ]
    }
   ],
   "source": [
    "import math\n",
    "\n",
    "def L1(x): \n",
    "    if x.ndim != 1:\n",
    "        raise ValueError(\"expected x to be of ndim=1, got ndim=\",X.ndim)    \n",
    "    sum = 0\n",
    "    for i in x: \n",
    "        if i > 0:\n",
    "            sum += i\n",
    "        else:\n",
    "            sum += -i\n",
    "    return sum \n",
    "\n",
    "\n",
    "def L2(x):\n",
    "    if x.ndim != 1:\n",
    "        raise ValueError(\"expected x to be of ndim=1, got ndim=\",X.ndim)    \n",
    "    sum = 0\n",
    "    for i in x:     \n",
    "        sum += i**2\n",
    "    sum = sum**0.5\n",
    "    return sum\n",
    "\n",
    "def L2Dot(x):\n",
    "    assert x.ndim == 1 and isinstance(x, np.ndarray)\n",
    "    return x.dot(x)**0.5\n",
    "\n",
    "# TEST vectors: here I test your implementation...calling your L1() and L2() functions\n",
    "tx=np.array([1, 2, 3, -1])\n",
    "ty=np.array([3,-1, 4,  1])\n",
    "\n",
    "expected_d1=8.0\n",
    "expected_d2=4.242640687119285\n",
    "\n",
    "d1=L1(tx-ty)\n",
    "d2=L2(tx-ty)\n",
    "\n",
    "print(f\"tx-ty={tx-ty}, d1-expected_d1={d1-expected_d1}, d2-expected_d2={d2-expected_d2}\")\n",
    "\n",
    "eps=1E-9\n",
    "assert math.fabs(d1-expected_d1)<eps, \"L1 dist seems to be wrong\"\n",
    "assert math.fabs(d2-expected_d2)<eps, \"L2 dist seems to be wrong\"\n",
    "\n",
    "print(\"OK(part-1)\")\n",
    "\n",
    "d2dot=L2Dot(tx-ty)\n",
    "print(\"d2dot-expected_d2=\",d2dot-expected_d2)\n",
    "assert math.fabs(d2dot-expected_d2)<eps, \"L2Ddot dist seem to be wrong\"\n",
    "print(\"OK(part-2)\")"
   ]
  },
  {
   "cell_type": "markdown",
   "id": "4bbabb156dd97c60",
   "metadata": {},
   "source": [
    "## Qc Construct the Root Mean Square Error (RMSE) function (Equation 2-1 [HOML]).\n"
   ]
  },
  {
   "cell_type": "code",
   "execution_count": 15,
   "id": "19f5ce784b9a6bd7",
   "metadata": {
    "ExecuteTime": {
     "end_time": "2025-09-11T09:22:50.426776Z",
     "start_time": "2025-09-11T09:22:50.423934Z"
    }
   },
   "outputs": [
    {
     "name": "stdout",
     "output_type": "stream",
     "text": [
      "RMSE=6.576473218982953, diff=2.6645352591003757e-15\n",
      "OK\n"
     ]
    }
   ],
   "source": [
    "def RMSE(y_pred, y_true):\n",
    "    assert len(y_pred) == len(y_true) and y_pred.ndim == 1 and y_true.ndim == 1\n",
    "    err_vec = y_pred - y_true\n",
    "    l2 = L2(err_vec)\n",
    "    return l2 / len(err_vec)**0.5\n",
    "\n",
    "# Dummy h function:\n",
    "def h(X):\n",
    "    if X.ndim!=2:\n",
    "        raise ValueError(\"excpeted X to be of ndim=2, got ndim=\",X.ndim)\n",
    "    if X.shape[0]==0 or X.shape[1]==0:\n",
    "        raise ValueError(\"X got zero data along the 0/1 axis, cannot continue\")\n",
    "    return X[:,0]\n",
    "\n",
    "# Calls your RMSE() function:\n",
    "r=RMSE(h(X), y_true)\n",
    "\n",
    "eps=1E-9\n",
    "expected=6.57647321898295\n",
    "print(f\"RMSE={r}, diff={r-expected}\")\n",
    "assert math.fabs(r-expected)<eps, \"your RMSE dist seems to be wrong\"\n",
    "\n",
    "print(\"OK\")"
   ]
  },
  {
   "cell_type": "markdown",
   "id": "a3b95ab3385af3e5",
   "metadata": {},
   "source": [
    "## Qd Similar construct the Mean Absolute Error (MAE) function (Equation 2-2 [HOML]) and evaluate it.\n"
   ]
  },
  {
   "cell_type": "code",
   "execution_count": 16,
   "id": "c8bd69850f6c0af3",
   "metadata": {
    "ExecuteTime": {
     "end_time": "2025-09-11T09:22:50.448749Z",
     "start_time": "2025-09-11T09:22:50.446157Z"
    }
   },
   "outputs": [
    {
     "name": "stdout",
     "output_type": "stream",
     "text": [
      "MAE=3.75, diff=0.0\n",
      "OK\n"
     ]
    }
   ],
   "source": [
    "def MAE(y_pred, y_true):\n",
    "    assert len(y_pred) == len(y_true) and y_pred.ndim == 1 and y_true.ndim == 1\n",
    "    err_vec = y_pred - y_true\n",
    "    return L1(err_vec) / len(err_vec)\n",
    "\n",
    "\n",
    "# Calls your MAE function:\n",
    "r=MAE(h(X), y_true)\n",
    "\n",
    "# TEST vector:\n",
    "expected=3.75\n",
    "print(f\"MAE={r}, diff={r-expected}\")\n",
    "assert math.fabs(r-expected)<eps, \"MAE dist seems to be wrong\"\n",
    "\n",
    "print(\"OK\")"
   ]
  },
  {
   "cell_type": "markdown",
   "id": "6f96b2fefbfe49af",
   "metadata": {},
   "source": [
    "## Qe Robust Code\n",
    "\n",
    "The functions above in this journal section are already made robust with asserts.\n"
   ]
  },
  {
   "cell_type": "markdown",
   "id": "177ab8bf682f326b",
   "metadata": {},
   "source": [
    "## Qf Conclusion\n",
    "\n",
    "### Answer\n",
    "\n",
    "Cost functions are at the basis of what the algorithms view as a success or not. A cost function is essentially, what the measure the machine should look for when training, or try to minimize. What lies behind the cost function is therefore essential. The L1 and L2 calculations are some of the key ingredients in the basic cost functions, and understanding how they work, and what they represent is key.\n",
    "\n",
    "When L1 is used, the absolute errors are simply summed up. But the L2 squares all of the errors, which means it is more sensitive to outlier data, and is more punishing at larger errors.\n"
   ]
  },
  {
   "cell_type": "markdown",
   "id": "c9fd0172e364530f",
   "metadata": {},
   "source": [
    "# Dummy Classifier\n"
   ]
  },
  {
   "cell_type": "markdown",
   "id": "d44a611fb01429ca",
   "metadata": {},
   "source": [
    "## Qa Load and display the MNIST data\n",
    "\n",
    "We create the `MNIST_GetDataSet()` and `MNIST_PlotDigit()` functions, so they can be reused later.\n"
   ]
  },
  {
   "cell_type": "code",
   "execution_count": 17,
   "id": "d3164043ebec12b5",
   "metadata": {
    "ExecuteTime": {
     "end_time": "2025-09-11T09:22:52.925079Z",
     "start_time": "2025-09-11T09:22:50.461588Z"
    }
   },
   "outputs": [
    {
     "name": "stdout",
     "output_type": "stream",
     "text": [
      "Shape of X: (70000, 784)\n"
     ]
    }
   ],
   "source": [
    "import matplotlib.pyplot as plt\n",
    "import matplotlib\n",
    "from sklearn.datasets import fetch_openml\n",
    "\n",
    "def MNIIST_GetDataSet():\n",
    "    X, y = fetch_openml('mnist_784', return_X_y=True, cache=True, as_frame=False)\n",
    "    return X, y\n",
    "\n",
    "X, y = MNIIST_GetDataSet()\n",
    "print(f\"Shape of X: {X.shape}\")"
   ]
  },
  {
   "cell_type": "code",
   "execution_count": 18,
   "id": "85b2ddae0ca6b07f",
   "metadata": {
    "ExecuteTime": {
     "end_time": "2025-09-11T09:22:52.955604Z",
     "start_time": "2025-09-11T09:22:52.932370Z"
    }
   },
   "outputs": [
    {
     "data": {
      "image/png": "[encoded data removed]",
      "text/plain": [
       "<Figure size 640x480 with 1 Axes>"
      ]
     },
     "metadata": {},
     "output_type": "display_data"
    }
   ],
   "source": [
    "def MNIST_PlotDigit(data):\n",
    "    image = data.reshape(28, 28)\n",
    "    plt.imshow(image, cmap = matplotlib.cm.binary)\n",
    "    plt.axis(\"off\")\n",
    "\n",
    "MNIST_PlotDigit(X[0])\n",
    "plt.show()"
   ]
  },
  {
   "cell_type": "markdown",
   "id": "6adf04b1c706e845",
   "metadata": {},
   "source": [
    "## Qb Add a Stochastic Gradient Decent [SGD] Classifier\n"
   ]
  },
  {
   "cell_type": "markdown",
   "id": "2afe4a4c716eede4",
   "metadata": {},
   "source": [
    "Below the data is split into train and test sets, and the SGD classifier is trained.\n"
   ]
  },
  {
   "cell_type": "code",
   "execution_count": 19,
   "id": "ec9aba2f1a0c66f",
   "metadata": {
    "ExecuteTime": {
     "end_time": "2025-09-11T09:23:00.480097Z",
     "start_time": "2025-09-11T09:22:52.961228Z"
    }
   },
   "outputs": [],
   "source": [
    "from sklearn.linear_model import SGDClassifier\n",
    "\n",
    "X_train, X_test, y_train, y_test = X[:50000], X[50000:], y[:50000], y[50000:]\n",
    "\n",
    "y_train_5 = (y_train == '5')\n",
    "y_test_5 = (y_test == '5')\n",
    "\n",
    "sgd_clf = SGDClassifier(random_state=42)\n",
    "sgd_clf.fit(X_train, y_train_5)\n",
    "\n",
    "sgd_predict_5 = sgd_clf.predict(X_test)"
   ]
  },
  {
   "cell_type": "markdown",
   "id": "85e9a3b2124bbb2a",
   "metadata": {},
   "source": [
    "In order to print some correctly classified and incorrectly classified digits, we first get some of the indecies of these digits:\n"
   ]
  },
  {
   "cell_type": "code",
   "execution_count": 20,
   "id": "b1093de55887ec6a",
   "metadata": {
    "ExecuteTime": {
     "end_time": "2025-09-11T09:23:00.613898Z",
     "start_time": "2025-09-11T09:23:00.522501Z"
    }
   },
   "outputs": [
    {
     "name": "stdout",
     "output_type": "stream",
     "text": [
      "Number of true positives : 1523\n",
      "Number of false positives: 615\n",
      "Number of false negatives: 284\n"
     ]
    }
   ],
   "source": [
    "true_positives = []\n",
    "false_positives = []\n",
    "false_negatives = []\n",
    "for i in range(len(y_test_5)):\n",
    "    if y_test_5[i] == True and sgd_predict_5[i] == True:\n",
    "        true_positives.append(i)\n",
    "    elif y_test_5[i] == False and sgd_predict_5[i] == True:\n",
    "        false_positives.append(i)\n",
    "    elif y_test_5[i] == True and sgd_predict_5[i] == False:\n",
    "        false_negatives.append(i)\n",
    "print(f\"Number of true positives : {len(true_positives)}\")\n",
    "print(f\"Number of false positives: {len(false_positives)}\")\n",
    "print(f\"Number of false negatives: {len(false_negatives)}\")"
   ]
  },
  {
   "cell_type": "markdown",
   "id": "3a37c80e93bdceb2",
   "metadata": {},
   "source": [
    "Now we plot some digits:\n",
    "\n",
    "First, the true positives:\n"
   ]
  },
  {
   "cell_type": "code",
   "execution_count": 21,
   "id": "2318e328a54a0440",
   "metadata": {
    "ExecuteTime": {
     "end_time": "2025-09-11T09:23:00.692048Z",
     "start_time": "2025-09-11T09:23:00.632219Z"
    }
   },
   "outputs": [
    {
     "data": {
      "image/png": "[encoded data removed]",
      "text/plain": [
       "<Figure size 1200x400 with 10 Axes>"
      ]
     },
     "metadata": {},
     "output_type": "display_data"
    }
   ],
   "source": [
    "# Plotting some true positives:\n",
    "def PlotMultiple(amount, indicies, X):\n",
    "    fig, axes = plt.subplots(1, amount, figsize=(12, 4))\n",
    "    for i in range(amount):\n",
    "        plt.subplot(1, amount, i + 1)\n",
    "        MNIST_PlotDigit(X[indicies[i]])\n",
    "\n",
    "    plt.tight_layout()\n",
    "    plt.show()\n",
    "\n",
    "PlotMultiple(10, true_positives, X_test)"
   ]
  },
  {
   "cell_type": "markdown",
   "id": "a37d00d0",
   "metadata": {},
   "source": [
    "Then some false positives:\n"
   ]
  },
  {
   "cell_type": "code",
   "execution_count": 22,
   "id": "f363c007a2c393ba",
   "metadata": {
    "ExecuteTime": {
     "end_time": "2025-09-11T09:23:00.760334Z",
     "start_time": "2025-09-11T09:23:00.705841Z"
    }
   },
   "outputs": [
    {
     "data": {
      "image/png": "[encoded data removed]",
      "text/plain": [
       "<Figure size 1200x400 with 10 Axes>"
      ]
     },
     "metadata": {},
     "output_type": "display_data"
    }
   ],
   "source": [
    "# Plotting some false positives\n",
    "PlotMultiple(10, false_positives, X_test)"
   ]
  },
  {
   "cell_type": "markdown",
   "id": "f17caba3",
   "metadata": {},
   "source": [
    "And some false negatives:\n"
   ]
  },
  {
   "cell_type": "code",
   "execution_count": 23,
   "id": "47e1dbc114ba231a",
   "metadata": {
    "ExecuteTime": {
     "end_time": "2025-09-11T09:23:00.820447Z",
     "start_time": "2025-09-11T09:23:00.765936Z"
    }
   },
   "outputs": [
    {
     "data": {
      "image/png": "[encoded data removed]",
      "text/plain": [
       "<Figure size 1200x400 with 10 Axes>"
      ]
     },
     "metadata": {},
     "output_type": "display_data"
    }
   ],
   "source": [
    "# Plotting some false negatives\n",
    "PlotMultiple(10, false_negatives, X_test)"
   ]
  },
  {
   "cell_type": "markdown",
   "id": "3a70d02f4583eb82",
   "metadata": {},
   "source": [
    "## Qc Implement a dummy binary classifier\n"
   ]
  },
  {
   "cell_type": "markdown",
   "id": "4e4c7c6dbc98b2ae",
   "metadata": {},
   "source": [
    "Below is a (very stupid) DummyClassifier, that simply takes in a 'strategy' and classifies everything as that strategy:\n"
   ]
  },
  {
   "cell_type": "code",
   "execution_count": 24,
   "id": "c165ef4df3a3fbef",
   "metadata": {
    "ExecuteTime": {
     "end_time": "2025-09-11T09:23:00.828112Z",
     "start_time": "2025-09-11T09:23:00.825852Z"
    }
   },
   "outputs": [],
   "source": [
    "from sklearn.metrics import accuracy_score\n",
    "from sklearn.base import BaseEstimator, ClassifierMixin\n",
    "import numpy as np\n",
    "\n",
    "class DummyClassifier(BaseEstimator, ClassifierMixin):\n",
    "    def __init__(self, strategy):\n",
    "        self.strategy = strategy\n",
    "\n",
    "    def fit(self, X, y=None):\n",
    "        # Actually do nothing\n",
    "        return self\n",
    "\n",
    "    def predict(self, X):\n",
    "        n_samples = X.shape[0]\n",
    "        return np.full(n_samples, self.strategy)\n",
    "\n",
    "    def score(self, X, y):\n",
    "        y_pred = self.predict(X)\n",
    "        return accuracy_score(y, y_pred)"
   ]
  },
  {
   "cell_type": "markdown",
   "id": "e82cd29d256ea91a",
   "metadata": {},
   "source": [
    "Testing the classifier and printing the score:\n"
   ]
  },
  {
   "cell_type": "code",
   "execution_count": 25,
   "id": "d7c3908adfba02bb",
   "metadata": {
    "ExecuteTime": {
     "end_time": "2025-09-11T09:23:00.841330Z",
     "start_time": "2025-09-11T09:23:00.838283Z"
    }
   },
   "outputs": [
    {
     "name": "stdout",
     "output_type": "stream",
     "text": [
      "dummy_score: 0.90965\n"
     ]
    }
   ],
   "source": [
    "dummy = DummyClassifier(False)\n",
    "dummy.fit(X_train, y_train_5)\n",
    "\n",
    "dummy_pred = dummy.predict(X_test)\n",
    "dummy_score = dummy.score(X_test, y_test_5)\n",
    "print(f\"dummy_score: {dummy_score}\")"
   ]
  },
  {
   "cell_type": "markdown",
   "id": "12b38823",
   "metadata": {},
   "source": [
    "### Comparison with book result\n",
    "\n",
    "Our score is 0.909, which fits perfectly with the books result of 0.909 as well. They are of course compatible as both classifiers are just guessing false on all images. This should theoretically give us an accuraccy of 90%, which fits\n",
    "\n",
    "(10 numbers, 1 of those is 5..., 90%)\n"
   ]
  },
  {
   "cell_type": "markdown",
   "id": "ef6c08d0bd1fbb9b",
   "metadata": {},
   "source": [
    "## Qd Conclusion\n"
   ]
  },
  {
   "cell_type": "markdown",
   "id": "f5b5006c40e8a1d6",
   "metadata": {},
   "source": [
    "### Answer\n",
    "\n",
    "In general, this exercise was mostly about getting the basic machine learning and sklearn techniques into our fingers.\n",
    "Splitting the MNIST test set for common ML best practices, and creating a very basic binary classifier adds greatly to the understanding of how ML works - and also that it is not magic. Even a fairly simple human catagorization of \"5 or not 5\" turns out to be not so easy, as can be seen on the plots of the false positives and false negatives. This was quite revealing, as some of the 5's looks like they should be easily recognizable.\n",
    "\n",
    "Also, this exercise gave some insight into how python classes work together with the sklearn library, when creating our own classifier. Something that might be useful when a very specific type of classification is needed, or later in the course.\n",
    "\n",
    "Lastly, we can also conclude that it is important to think about what kind of data and classification that you are working with. Just because you have an accuracy of 90%, does not necessarily make the model good, as we see when using the dummy classifier.\n"
   ]
  },
  {
   "cell_type": "markdown",
   "id": "607f223f65abad3d",
   "metadata": {},
   "source": [
    "# Performance Metrics\n"
   ]
  },
  {
   "cell_type": "markdown",
   "id": "70a7652b64ccf614",
   "metadata": {},
   "source": [
    "## Qa Implement the Accuracy function and test it on the MNIST data.\n",
    "\n",
    "We added the assert at the top of `UnpackPerfMetrics()`, to make sure the denom is above 0.\n"
   ]
  },
  {
   "cell_type": "code",
   "execution_count": 26,
   "id": "a22948252d30f4c",
   "metadata": {
    "ExecuteTime": {
     "end_time": "2025-09-11T09:23:00.939647Z",
     "start_time": "2025-09-11T09:23:00.854116Z"
    }
   },
   "outputs": [
    {
     "name": "stdout",
     "output_type": "stream",
     "text": [
      "MyAccuracy     = 0.95505\n",
      "accuracy_score = 0.95505\n",
      "MyAccuracy     = 0.90965\n",
      "accuracy_score = 0.90965\n"
     ]
    }
   ],
   "source": [
    "import math\n",
    "\n",
    "def UnpackPerfMetrics(y_true, y_pred):\n",
    "    assert y_true.shape == y_pred.shape and y_true.shape[0] > 0\n",
    "    TP, TN, FP, FN = 0, 0, 0, 0\n",
    "    for i, _ in enumerate(y_pred):\n",
    "        if y_true[i] == True and y_pred[i] == True:\n",
    "            TP += 1\n",
    "        elif y_true[i] == False and y_pred[i] == False:\n",
    "            TN += 1\n",
    "        elif y_true[i] == True and y_pred[i] == False:\n",
    "            FN += 1\n",
    "        else:\n",
    "            FP += 1\n",
    "    return TP, TN, FP, FN\n",
    "\n",
    "def MyAccuracy(y_true, y_pred):\n",
    "    TP, TN, FP, FN = UnpackPerfMetrics(y_true, y_pred)\n",
    "    accuracy = (TP + TN) / y_true.shape[0]\n",
    "    return accuracy\n",
    "\n",
    "from sklearn.metrics import accuracy_score\n",
    "\n",
    "def TestAccuracy(y_true, y_pred):\n",
    "    a0=MyAccuracy(y_true, y_pred)\n",
    "    a1=accuracy_score(y_true, y_pred)\n",
    "\n",
    "    print(f\"MyAccuracy     = {a0}\")\n",
    "    print(f\"accuracy_score = {a1}\")\n",
    "\n",
    "    eps = 1E-9\n",
    "    if math.fabs(a0 - a1) > eps:\n",
    "        raise ValueError(\"Difference in MyAccuracy and accuracy_score too big!\")\n",
    "\n",
    "TestAccuracy(y_test_5, sgd_predict_5)\n",
    "TestAccuracy(y_test_5, dummy_pred)\n"
   ]
  },
  {
   "cell_type": "markdown",
   "id": "5d765c84d7c7f875",
   "metadata": {},
   "source": [
    "## Qb Implement Precision, Recall and $F_1$-score and test it on the MNIST data for both the SGD and Dummy classifier models\n"
   ]
  },
  {
   "cell_type": "markdown",
   "id": "df8829ea",
   "metadata": {},
   "source": [
    "Check for denom = 0 is in `UnpackPerfMetrics()`, as shown in Qa.\n"
   ]
  },
  {
   "cell_type": "code",
   "execution_count": 27,
   "id": "254307ba58891c55",
   "metadata": {
    "ExecuteTime": {
     "end_time": "2025-09-11T09:23:01.285419Z",
     "start_time": "2025-09-11T09:23:00.945378Z"
    }
   },
   "outputs": [
    {
     "name": "stdout",
     "output_type": "stream",
     "text": [
      "SGD Performance Metrics\n",
      "MyPrecision     = 0.7123479887745556\n",
      "precision_score = 0.7123479887745556\n",
      "MyRecall        = 0.8428334255672385\n",
      "recall_score    = 0.8428334255672385\n",
      "MyF1Score       = 0.7721166032953104\n",
      "f1_score        = 0.7721166032953105\n",
      "=============\n",
      "Dummy Performance Metrics\n",
      "MyPrecision     = 0.0\n",
      "precision_score = 0.0\n",
      "MyRecall        = 0.0\n",
      "recall_score    = 0.0\n",
      "MyF1Score       = 0.0\n",
      "f1_score        = 0.0\n"
     ]
    },
    {
     "name": "stderr",
     "output_type": "stream",
     "text": [
      "/home/lassebp7/anaconda3/lib/python3.13/site-packages/sklearn/metrics/_classification.py:1565: UndefinedMetricWarning: Precision is ill-defined and being set to 0.0 due to no predicted samples. Use `zero_division` parameter to control this behavior.\n",
      "  _warn_prf(average, modifier, f\"{metric.capitalize()} is\", len(result))\n"
     ]
    }
   ],
   "source": [
    "from sklearn.metrics import precision_score, recall_score, f1_score\n",
    "def MyPrecision(y_true, y_pred):\n",
    "    TP, TN, FP, FN = UnpackPerfMetrics(y_true, y_pred)\n",
    "    if TP + FP == 0: return 0.0\n",
    "    return TP / (TP + FP)\n",
    "\n",
    "def MyRecall(y_true, y_pred):\n",
    "    TP, TN, FP, FN = UnpackPerfMetrics(y_true, y_pred)\n",
    "    if TP + FN == 0: return 0.0\n",
    "    return TP / (TP + FN)\n",
    "\n",
    "def MyF1Score(y_true, y_pred):\n",
    "    precision = MyPrecision(y_true, y_pred)\n",
    "    recall = MyRecall(y_true, y_pred)\n",
    "    if precision == 0 or recall == 0: return 0.0\n",
    "    return 2 / (1/precision + 1/recall)\n",
    "\n",
    "def TestMetrics(y_true, y_pred):\n",
    "    p0 = MyPrecision(y_true, y_pred)\n",
    "    p1 = precision_score(y_true, y_pred)\n",
    "\n",
    "    r0 = MyRecall(y_true, y_pred)\n",
    "    r1 = recall_score(y_true, y_pred)\n",
    "\n",
    "    f1_0 = MyF1Score(y_true, y_pred)\n",
    "    f1_1 = f1_score(y_true, y_pred)\n",
    "\n",
    "    eps = 1E-9\n",
    "\n",
    "    print(f\"MyPrecision     = {p0}\")\n",
    "    print(f\"precision_score = {p1}\")\n",
    "    if math.fabs(p0 - p1) > eps:\n",
    "        raise ValueError(\"Difference in MyPrecision and precision_score too big!\")\n",
    "\n",
    "    print(f\"MyRecall        = {r0}\")\n",
    "    print(f\"recall_score    = {r1}\")\n",
    "    if math.fabs(r0 - r1) > eps:\n",
    "        raise ValueError(\"Difference in MyRecall and recall_score too big!\")\n",
    "\n",
    "    print(f\"MyF1Score       = {f1_0}\")\n",
    "    print(f\"f1_score        = {f1_1}\")\n",
    "    if math.fabs(f1_0 - f1_1) > eps:\n",
    "        raise ValueError(\"Difference in MyF1Score and f1_score too big!\")\n",
    "\n",
    "print(\"SGD Performance Metrics\")\n",
    "TestMetrics(y_test_5, sgd_predict_5)\n",
    "print(\"=============\")\n",
    "print(\"Dummy Performance Metrics\")\n",
    "TestMetrics(y_test_5, dummy_pred)\n"
   ]
  },
  {
   "cell_type": "markdown",
   "id": "8ffa3e27d37e40ef",
   "metadata": {},
   "source": [
    "## Qc The Confusion Matrix\n"
   ]
  },
  {
   "cell_type": "code",
   "execution_count": 28,
   "id": "d1084d58e35a333d",
   "metadata": {
    "ExecuteTime": {
     "end_time": "2025-09-11T09:23:01.301666Z",
     "start_time": "2025-09-11T09:23:01.291378Z"
    }
   },
   "outputs": [
    {
     "name": "stdout",
     "output_type": "stream",
     "text": [
      "M_dummy:\n",
      " [[18193     0]\n",
      " [ 1807     0]]\n",
      "M_SGD:\n",
      " [[17578   615]\n",
      " [  284  1523]]\n",
      "M_dummy_swapped:\n",
      " [[18193  1807]\n",
      " [    0     0]]\n",
      "M_SGD_swapped:\n",
      " [[17578   284]\n",
      " [  615  1523]]\n"
     ]
    }
   ],
   "source": [
    "from sklearn.metrics import confusion_matrix\n",
    "\n",
    "M_dummy = confusion_matrix(y_test_5, dummy_pred)\n",
    "M_SGD = confusion_matrix(y_test_5, sgd_predict_5)\n",
    "\n",
    "print(\"M_dummy:\\n\", M_dummy)\n",
    "print(\"M_SGD:\\n\", M_SGD)\n",
    "\n",
    "M_dummy_swapped = confusion_matrix(dummy_pred, y_test_5)\n",
    "M_SGD_swapped = confusion_matrix(sgd_predict_5, y_test_5)\n",
    "\n",
    "print(\"M_dummy_swapped:\\n\", M_dummy_swapped)\n",
    "print(\"M_SGD_swapped:\\n\", M_SGD_swapped)"
   ]
  },
  {
   "cell_type": "markdown",
   "id": "f74c5f38",
   "metadata": {},
   "source": [
    "### Qc Answer\n",
    "\n",
    "From the result of running the code, the matrix returned from confusion matrix must be\n",
    "\n",
    "[[TN, FP]\n",
    "\n",
    "[FN, TP]]\n",
    "\n",
    "As the dummy model never predicts true, no positives are to be found, and the second column will be all 0's\n",
    "\n",
    "In the SDG we see that it predicts some positives, so the second column has numbers. It is mostly correct, but there are still some false positives and negatives\n",
    "\n",
    "#### Swapped variable order\n",
    "\n",
    "Swapping the variable order swaps the places of FP and FN, and can therefore lead to some quite different conclusions.\n"
   ]
  },
  {
   "cell_type": "markdown",
   "id": "4d5b7a24419ffad2",
   "metadata": {},
   "source": [
    "## Qd A Confusion Matrix Heat-map\n"
   ]
  },
  {
   "cell_type": "markdown",
   "id": "a3ce025b",
   "metadata": {},
   "source": [
    "We created heat maps for the 2x2 confusion matrixes, seen below\n"
   ]
  },
  {
   "cell_type": "code",
   "execution_count": 29,
   "id": "d326eefd709f54e7",
   "metadata": {
    "ExecuteTime": {
     "end_time": "2025-09-11T09:23:01.418938Z",
     "start_time": "2025-09-11T09:23:01.307090Z"
    }
   },
   "outputs": [
    {
     "data": {
      "image/png": "[encoded data removed]",
      "text/plain": [
       "<Figure size 640x480 with 2 Axes>"
      ]
     },
     "metadata": {},
     "output_type": "display_data"
    },
    {
     "data": {
      "text/plain": [
       "<Figure size 640x480 with 0 Axes>"
      ]
     },
     "metadata": {},
     "output_type": "display_data"
    },
    {
     "data": {
      "image/png": "[encoded data removed]",
      "text/plain": [
       "<Figure size 640x480 with 2 Axes>"
      ]
     },
     "metadata": {},
     "output_type": "display_data"
    }
   ],
   "source": [
    "from sklearn.metrics import ConfusionMatrixDisplay\n",
    "import matplotlib.pyplot as plt\n",
    "\n",
    "ConfusionMatrixDisplay.from_predictions(y_test_5, sgd_predict_5, cmap=\"Grays\")\n",
    "plt.title(\"SGD Confusion Matrix\")\n",
    "plt.figure()\n",
    "ConfusionMatrixDisplay.from_predictions(y_test_5, dummy_pred, cmap=\"Grays\")\n",
    "plt.title(\"DummyClassifier Confusion Matrix\")\n",
    "plt.show()"
   ]
  },
  {
   "cell_type": "markdown",
   "id": "e249e6d962ef9107",
   "metadata": {},
   "source": [
    "## Qe Conclusion\n"
   ]
  },
  {
   "cell_type": "markdown",
   "id": "b7231533efe6acb3",
   "metadata": {},
   "source": [
    "In this exercise notebook we have looked at different types of metrics, that we can use to evaluate our models. We went through some of the functions that are used for this, such as recall, F1 and precision, and implemented them by hand, to better our understanding of how they work behind the scenes.\n",
    "\n",
    "After that we looked at confusion matrices, that we can use to look at the numbers directly, to see how many TP, FP, TN and TP we are getting from our dataset through our model. We also compared our SGD model to the dummy model, to directly see how the dummy model works. We could see from the numbers produced here that due to how our dataset is structured and how our classification is made, why the dummy model achieved a high accuracy in the previous exercise.\n",
    "\n",
    "Lastly, we looked at ways to visualize these heatmaps in different versions, to analyze where our model makes the most mistakes. This information can then be used to see where it needs to be improved to achieve better results.\n"
   ]
  }
 ],
 "metadata": {
  "kernelspec": {
   "display_name": "base",
   "language": "python",
   "name": "python3"
  },
  "language_info": {
   "codemirror_mode": {
    "name": "ipython",
    "version": 3
   },
   "file_extension": ".py",
   "mimetype": "text/x-python",
   "name": "python",
   "nbconvert_exporter": "python",
   "pygments_lexer": "ipython3",
   "version": "3.13.5"
  }
 },
 "nbformat": 4,
 "nbformat_minor": 5
}
