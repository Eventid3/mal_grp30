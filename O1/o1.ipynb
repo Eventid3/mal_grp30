{
 "cells": [
  {
   "metadata": {},
   "cell_type": "markdown",
   "source": "# Modules and Classes",
   "id": "b13e3d6dfe65cf69"
  },
  {
   "metadata": {},
   "cell_type": "markdown",
   "source": "Path setup for libs:",
   "id": "f17993da2c32fa21"
  },
  {
   "cell_type": "code",
   "id": "initial_id",
   "metadata": {
    "collapsed": true,
    "ExecuteTime": {
     "end_time": "2025-09-05T07:22:28.513511Z",
     "start_time": "2025-09-05T07:22:28.442148Z"
    }
   },
   "source": [
    "import sys,os\n",
    "sys.path.append(os.path.expanduser('./libitmal'))\n",
    "\n",
    "from libitmal import utils as itmalutils\n",
    "print(dir(itmalutils))\n",
    "print(itmalutils.__file__)"
   ],
   "outputs": [
    {
     "name": "stdout",
     "output_type": "stream",
     "text": [
      "['AssertInRange', 'CheckFloat', 'InRange', 'Iterable', 'PrintMatrix', 'ResetRandom', 'TEST', 'TestAll', 'TestCheckFloat', 'TestPrintMatrix', 'TestVarName', 'VarName', '__builtins__', '__cached__', '__doc__', '__file__', '__loader__', '__name__', '__package__', '__spec__', 'ctxlib', 'inf', 'inspect', 'isFloat', 'isList', 'isNumpyArray', 'nan', 'np', 'random', 're']\n",
      "/Users/esbeninglev/Dropbox/Documents/Uni/6_semester/MAL_MachineLearning/mal_grp30/O1/libitmal/utils.py\n"
     ]
    }
   ],
   "execution_count": 1
  },
  {
   "metadata": {},
   "cell_type": "markdown",
   "source": "### Qa - Load and test libitmal",
   "id": "8b934631b2f0b7bb"
  },
  {
   "metadata": {
    "ExecuteTime": {
     "end_time": "2025-09-05T07:27:19.550640Z",
     "start_time": "2025-09-05T07:27:19.517103Z"
    }
   },
   "cell_type": "code",
   "source": [
    "from libitmal import utils as itmalutils\n",
    "\n",
    "itmalutils.TestAll()"
   ],
   "id": "287cd3ea27ac1aff",
   "outputs": [
    {
     "name": "stdout",
     "output_type": "stream",
     "text": [
      "TestPrintMatrix...(no regression testing)\n",
      "X=[[   1.    2.]\n",
      "   [   3. -100.]\n",
      "   [   1.   -1.]]\n",
      "X=[[ 1.  2.]\n",
      "   ...\n",
      "   [ 1. -1.]]\n",
      "X=[[   1.\n",
      "       2.    ]\n",
      "   [   3.0001\n",
      "    -100.    ]\n",
      "   [   1.\n",
      "      -1.    ]]\n",
      "X=[[   1.    2.]\n",
      "   [   3. -100.]\n",
      "   [   1.   -1.]]\n",
      "OK\n",
      "TEST: OK\n",
      "ALL OK\n"
     ]
    }
   ],
   "execution_count": 2
  },
  {
   "metadata": {},
   "cell_type": "markdown",
   "source": "### Qb Create your own module, with some functions, and test it",
   "id": "49634c5f31396a29"
  },
  {
   "metadata": {
    "ExecuteTime": {
     "end_time": "2025-09-05T07:28:28.970770Z",
     "start_time": "2025-09-05T07:28:28.968777Z"
    }
   },
   "cell_type": "code",
   "source": [
    "import malutils\n",
    "\n",
    "malutils.HelloWorld()\n",
    "malutils.Greeter(\"Pokemon!\")"
   ],
   "id": "3897df972d834c4a",
   "outputs": [
    {
     "name": "stdout",
     "output_type": "stream",
     "text": [
      "Hello World!\n",
      "Hello Pokemon!!\n"
     ]
    }
   ],
   "execution_count": 4
  },
  {
   "metadata": {},
   "cell_type": "markdown",
   "source": [
    "### Qc How do you 'recompile' a module?\n",
    "\n",
    "#### Answer\n",
    "Reload of modules can be done in serveral ways. One simple way is to just restart the kernal.\n",
    "Another is the code below."
   ],
   "id": "36344ab0d6724bb9"
  },
  {
   "metadata": {
    "ExecuteTime": {
     "end_time": "2025-09-05T07:31:04.364420Z",
     "start_time": "2025-09-05T07:31:04.357696Z"
    }
   },
   "cell_type": "code",
   "source": [
    "import importlib\n",
    "importlib.reload(malutils)\n"
   ],
   "id": "2bfaa20b67d6c249",
   "outputs": [
    {
     "data": {
      "text/plain": [
       "<module 'malutils' from '/Users/esbeninglev/Dropbox/Documents/Uni/6_semester/MAL_MachineLearning/mal_grp30/O1/malutils/__init__.py'>"
      ]
     },
     "execution_count": 5,
     "metadata": {},
     "output_type": "execute_result"
    }
   ],
   "execution_count": 5
  },
  {
   "metadata": {},
   "cell_type": "markdown",
   "source": "# Intro",
   "id": "6af36cd021d4d287"
  },
  {
   "metadata": {},
   "cell_type": "code",
   "outputs": [],
   "execution_count": null,
   "source": "",
   "id": "18bee5c2fb80133"
  },
  {
   "metadata": {},
   "cell_type": "markdown",
   "source": "### Qa) The $\\theta$ parameters and the $R^2$ Score\n",
   "id": "44ca41148dde07e0"
  },
  {
   "metadata": {},
   "cell_type": "code",
   "outputs": [],
   "execution_count": null,
   "source": "",
   "id": "24539136189aedd2"
  },
  {
   "metadata": {},
   "cell_type": "markdown",
   "source": "### Qb) Using k-Nearest Neighbors\n",
   "id": "5cfdcf39d69e6de2"
  },
  {
   "metadata": {},
   "cell_type": "code",
   "outputs": [],
   "execution_count": null,
   "source": "",
   "id": "980d20514f057dbe"
  },
  {
   "metadata": {},
   "cell_type": "markdown",
   "source": "### Qc) Tuning Parameter for k-Nearest Neighbors and A Sanity Check\n",
   "id": "be232cb282708caa"
  },
  {
   "metadata": {},
   "cell_type": "code",
   "outputs": [],
   "execution_count": null,
   "source": "",
   "id": "815410ae321abffc"
  },
  {
   "metadata": {},
   "cell_type": "markdown",
   "source": "### Qd) Trying out a Neural Network\n",
   "id": "f3337d2af27f0d50"
  },
  {
   "metadata": {},
   "cell_type": "code",
   "outputs": [],
   "execution_count": null,
   "source": "",
   "id": "a924913c5a5c5fb1"
  }
 ],
 "metadata": {
  "kernelspec": {
   "display_name": "Python [conda env:base] *",
   "language": "python",
   "name": "conda-base-py"
  },
  "language_info": {
   "codemirror_mode": {
    "name": "ipython",
    "version": 2
   },
   "file_extension": ".py",
   "mimetype": "text/x-python",
   "name": "python",
   "nbconvert_exporter": "python",
   "pygments_lexer": "ipython2",
   "version": "2.7.6"
  }
 },
 "nbformat": 4,
 "nbformat_minor": 5
}
