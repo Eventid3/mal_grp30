{
 "cells": [
  {
   "metadata": {},
   "cell_type": "markdown",
   "source": [
    "# MAL O1\n",
    "#### Gruppe 30\n",
    "#### September 2025\n",
    "\n",
    "Lasse Borring Petersen -\n",
    "\n",
    "Benjamin Harboe Strunge -\n",
    "\n",
    "Esben Inglev - 202210050\n"
   ],
   "id": "ee62eb4de243e5ee"
  },
  {
   "cell_type": "markdown",
   "id": "b13e3d6dfe65cf69",
   "metadata": {},
   "source": "## Modules and Classes"
  },
  {
   "cell_type": "markdown",
   "id": "f17993da2c32fa21",
   "metadata": {},
   "source": [
    "Path setup for libs:"
   ]
  },
  {
   "cell_type": "code",
   "id": "initial_id",
   "metadata": {
    "collapsed": true,
    "ExecuteTime": {
     "end_time": "2025-09-08T06:54:25.056192Z",
     "start_time": "2025-09-08T06:54:25.047931Z"
    }
   },
   "source": [
    "import sys,os\n",
    "sys.path.append(os.path.expanduser('./libitmal'))\n",
    "\n",
    "from libitmal import utils as itmalutils\n",
    "print(dir(itmalutils))\n",
    "print(itmalutils.__file__)"
   ],
   "outputs": [
    {
     "name": "stdout",
     "output_type": "stream",
     "text": [
      "['AssertInRange', 'CheckFloat', 'InRange', 'Iterable', 'PrintMatrix', 'ResetRandom', 'TEST', 'TestAll', 'TestCheckFloat', 'TestPrintMatrix', 'TestVarName', 'VarName', '__builtins__', '__cached__', '__doc__', '__file__', '__loader__', '__name__', '__package__', '__spec__', '__warningregistry__', 'ctxlib', 'inf', 'inspect', 'isFloat', 'isList', 'isNumpyArray', 'nan', 'np', 'random', 're']\n",
      "/Users/esbeninglev/Dropbox/Documents/Uni/6_semester/MAL_MachineLearning/mal_grp30/O1/libitmal/utils.py\n"
     ]
    }
   ],
   "execution_count": 38
  },
  {
   "cell_type": "markdown",
   "id": "8b934631b2f0b7bb",
   "metadata": {},
   "source": [
    "### Qa - Load and test libitmal"
   ]
  },
  {
   "cell_type": "code",
   "id": "287cd3ea27ac1aff",
   "metadata": {
    "ExecuteTime": {
     "end_time": "2025-09-08T06:54:25.080547Z",
     "start_time": "2025-09-08T06:54:25.075360Z"
    }
   },
   "source": [
    "from libitmal import utils as itmalutils\n",
    "\n",
    "itmalutils.TestAll()"
   ],
   "outputs": [
    {
     "name": "stdout",
     "output_type": "stream",
     "text": [
      "TestPrintMatrix...(no regression testing)\n",
      "X=[[   1.    2.]\n",
      "   [   3. -100.]\n",
      "   [   1.   -1.]]\n",
      "X=[[ 1.  2.]\n",
      "   ...\n",
      "   [ 1. -1.]]\n",
      "X=[[   1.\n",
      "       2.    ]\n",
      "   [   3.0001\n",
      "    -100.    ]\n",
      "   [   1.\n",
      "      -1.    ]]\n",
      "X=[[   1.    2.]\n",
      "   [   3. -100.]\n",
      "   [   1.   -1.]]\n",
      "OK\n",
      "TEST: OK\n",
      "ALL OK\n"
     ]
    }
   ],
   "execution_count": 39
  },
  {
   "cell_type": "markdown",
   "id": "49634c5f31396a29",
   "metadata": {},
   "source": [
    "### Qb Create your own module, with some functions, and test it"
   ]
  },
  {
   "metadata": {},
   "cell_type": "markdown",
   "source": "Below is two small printer functions placed in `malutils` and imported:",
   "id": "c01e8aed0a73688d"
  },
  {
   "cell_type": "code",
   "id": "3897df972d834c4a",
   "metadata": {
    "ExecuteTime": {
     "end_time": "2025-09-08T06:54:25.091860Z",
     "start_time": "2025-09-08T06:54:25.089868Z"
    }
   },
   "source": [
    "import malutils\n",
    "\n",
    "malutils.HelloWorld()\n",
    "malutils.Greeter(\"Pokemon!\")"
   ],
   "outputs": [
    {
     "name": "stdout",
     "output_type": "stream",
     "text": [
      "Hello World!\n",
      "Hello Pokemon!!\n"
     ]
    }
   ],
   "execution_count": 40
  },
  {
   "cell_type": "markdown",
   "id": "36344ab0d6724bb9",
   "metadata": {},
   "source": [
    "### Qc How do you 'recompile' a module?\n",
    "\n",
    "#### Answer\n",
    "Reload of modules can be done in serveral ways. One simple way is to just restart the kernal.\n",
    "Another is the code below."
   ]
  },
  {
   "cell_type": "code",
   "id": "2bfaa20b67d6c249",
   "metadata": {
    "ExecuteTime": {
     "end_time": "2025-09-08T06:54:25.109836Z",
     "start_time": "2025-09-08T06:54:25.106207Z"
    }
   },
   "source": [
    "import importlib\n",
    "importlib.reload(malutils)\n"
   ],
   "outputs": [
    {
     "data": {
      "text/plain": [
       "<module 'malutils' from '/Users/esbeninglev/Dropbox/Documents/Uni/6_semester/MAL_MachineLearning/mal_grp30/O1/malutils/__init__.py'>"
      ]
     },
     "execution_count": 41,
     "metadata": {},
     "output_type": "execute_result"
    }
   ],
   "execution_count": 41
  },
  {
   "metadata": {},
   "cell_type": "markdown",
   "source": [
    "### Qe Extend the class with some public and private functions and member variables\n",
    "\n",
    "#### Answers\n",
    "As can be seen below, private function and member variables are represented in python by two __ prefixed to the name.\n",
    "\n",
    "The meaning of `self` is that it is a reference to the class instance itself. Other languages have 'this' as a reference to the class instance itself.\n",
    "\n",
    "Calling a function without `self` in the parameter list is not allowed in python, as can be seen from the output of the exception catch."
   ],
   "id": "e1e00a3482dd44fa"
  },
  {
   "metadata": {
    "ExecuteTime": {
     "end_time": "2025-09-08T06:54:25.125869Z",
     "start_time": "2025-09-08T06:54:25.122755Z"
    }
   },
   "cell_type": "code",
   "source": [
    "class MyClass:\n",
    "    def myFun(self):\n",
    "        self.myvar = \"Public function\"\n",
    "        print(f\"This is a message inside the class, myvar={self.myvar}.\")\n",
    "\n",
    "    #private function\n",
    "    def __myfun(self):\n",
    "        self.myvar = \"Private\"\n",
    "        print(f\"This is a private message inside the class, myvar={self.myvar}.\")\n",
    "\n",
    "    def callToPrivate(self):\n",
    "        print(f\"Calling private function, myvar={self.myvar}.\")\n",
    "        self.__myfun()\n",
    "        print(\"Done with private function\")\n",
    "\n",
    "    def myFun2(): # this wont work!\n",
    "        print(\"No self\")\n",
    "\n",
    "\n",
    "instance = MyClass()\n",
    "\n",
    "instance.myFun()\n",
    "try:\n",
    "    instance.__myfun()\n",
    "except:\n",
    "    print(\"Exception: can't call private function\")\n",
    "\n",
    "instance.callToPrivate()\n",
    "try:\n",
    "    instance.myFun2()\n",
    "except:\n",
    "    print(\"Exception: no self class method!\")"
   ],
   "id": "847dbf64015ff7a7",
   "outputs": [
    {
     "name": "stdout",
     "output_type": "stream",
     "text": [
      "This is a message inside the class, myvar=Public function.\n",
      "Exception: can't call private function\n",
      "Calling private function, myvar=Public function.\n",
      "This is a private message inside the class, myvar=Private.\n",
      "Done with private function\n",
      "Exception: no self class method!\n"
     ]
    }
   ],
   "execution_count": 42
  },
  {
   "metadata": {},
   "cell_type": "markdown",
   "source": "### Qf Extend the class with a Constructor\n",
   "id": "bcdb1b3b85ded873"
  },
  {
   "metadata": {},
   "cell_type": "markdown",
   "source": [
    "#### Answers\n",
    "\n",
    "As can be seen below, the constructor is named \\_\\_init\\_\\_ and takes the 'self' parameter and an arbitrary number of parameters.\n",
    "There is no real destructor compared to the C++ destructor. Python is a managed language, so objects that are no longer in use are garbage collected.\n",
    "\n",
    "The \\_\\_del\\_\\_ function is not a destructor. It's just a function that gets called when the garbage collector destroys the instance."
   ],
   "id": "291e3c7173c0e491"
  },
  {
   "metadata": {
    "ExecuteTime": {
     "end_time": "2025-09-08T06:54:25.141774Z",
     "start_time": "2025-09-08T06:54:25.138983Z"
    }
   },
   "cell_type": "code",
   "source": [
    "class MyCtorClass:\n",
    "    def __init__(self,x):\n",
    "        self.x = x\n",
    "        print(f\"Constructor called with x={x}\")\n",
    "\n",
    "    def GetX(self):\n",
    "        return self.x\n",
    "\n",
    "ctorInstance = MyCtorClass(42)\n",
    "num = ctorInstance.GetX()\n",
    "print(f\"numn from instance = {num}\")\n"
   ],
   "id": "ddc67f41313ba89a",
   "outputs": [
    {
     "name": "stdout",
     "output_type": "stream",
     "text": [
      "Constructor called with x=42\n",
      "numn from instance = 42\n"
     ]
    }
   ],
   "execution_count": 43
  },
  {
   "metadata": {},
   "cell_type": "markdown",
   "source": [
    "### Qg Extend the class with a to-string function\n",
    "\n",
    "Below is a small class with a \"to string\" method:"
   ],
   "id": "601e1dfe043a51eb"
  },
  {
   "metadata": {
    "ExecuteTime": {
     "end_time": "2025-09-08T06:54:25.157718Z",
     "start_time": "2025-09-08T06:54:25.155538Z"
    }
   },
   "cell_type": "code",
   "source": [
    "class MyToStringClass:\n",
    "    def __init__(self,x):\n",
    "        self.x = x\n",
    "\n",
    "    def __str__(self):\n",
    "        return f\"MyToStringClass (x={self.x})\"\n",
    "\n",
    "strClass = MyToStringClass(420)\n",
    "print(strClass)"
   ],
   "id": "eec038b36bd3c73",
   "outputs": [
    {
     "name": "stdout",
     "output_type": "stream",
     "text": [
      "MyToStringClass (x=420)\n"
     ]
    }
   ],
   "execution_count": 44
  },
  {
   "cell_type": "markdown",
   "id": "6af36cd021d4d287",
   "metadata": {},
   "source": "## Intro"
  },
  {
   "cell_type": "code",
   "id": "18bee5c2fb80133",
   "metadata": {
    "ExecuteTime": {
     "end_time": "2025-09-08T06:54:25.193799Z",
     "start_time": "2025-09-08T06:54:25.169349Z"
    }
   },
   "source": [
    "import matplotlib.pyplot as plt\n",
    "import numpy as np\n",
    "import pandas as pd\n",
    "import sklearn.linear_model\n",
    "import os\n",
    "\n",
    "def prepare_country_stats(oecd_bli, gdp_per_capita):\n",
    "    oecd_bli = oecd_bli[oecd_bli[\"INEQUALITY\"]==\"TOT\"]\n",
    "    oecd_bli = oecd_bli.pivot(index=\"Country\", columns=\"Indicator\", values=\"Value\")\n",
    "    gdp_per_capita.rename(columns={\"2015\": \"GDP per capita\"}, inplace=True)\n",
    "    gdp_per_capita.set_index(\"Country\", inplace=True)\n",
    "    full_country_stats = pd.merge(left=oecd_bli, right=gdp_per_capita,\n",
    "                                  left_index=True, right_index=True)\n",
    "    full_country_stats.sort_values(by=\"GDP per capita\", inplace=True)\n",
    "    remove_indices = [0, 1, 6, 8, 33, 34, 35]\n",
    "    keep_indices = list(set(range(36)) - set(remove_indices))\n",
    "    return full_country_stats[[\"GDP per capita\", 'Life satisfaction']].iloc[keep_indices]\n",
    "\n",
    "datapath = os.path.join(\"./datasets\", \"lifesat\", \"\")\n",
    "\n",
    "# Load the data\n",
    "oecd_bli = pd.read_csv(datapath + \"oecd_bli_2015.csv\", thousands=',')\n",
    "gdp_per_capita = pd.read_csv(datapath + \"gdp_per_capita.csv\",thousands=',',delimiter='\\t',\n",
    "                             encoding='latin1', na_values=\"n/a\")\n",
    "\n",
    "# Prepare the data\n",
    "country_stats = prepare_country_stats(oecd_bli, gdp_per_capita)\n",
    "X = np.c_[country_stats[\"GDP per capita\"]]\n",
    "y = np.c_[country_stats[\"Life satisfaction\"]]\n",
    "\n",
    "# Visualize the data\n",
    "#country_stats.plot(kind='scatter', x=\"GDP per capita\", y='Life satisfaction')\n",
    "#plt.show()\n",
    "\n",
    "# Select a linear model\n",
    "model = sklearn.linear_model.LinearRegression()\n",
    "# Train the model\n",
    "model.fit(X, y)\n",
    "\n",
    "print(\"OK\")\n"
   ],
   "outputs": [
    {
     "name": "stdout",
     "output_type": "stream",
     "text": [
      "OK\n"
     ]
    }
   ],
   "execution_count": 45
  },
  {
   "cell_type": "markdown",
   "id": "44ca41148dde07e0",
   "metadata": {},
   "source": [
    "### Qa) The $\\theta$ parameters and the $R^2$ Score\n"
   ]
  },
  {
   "cell_type": "markdown",
   "id": "9ddea168e62fe2cf",
   "metadata": {},
   "source": [
    "### Answers\n",
    "\n",
    "Maximum for $R^2$ is 1.\n",
    "\n",
    "Minimum for $R^2$ is negative infinity. This is if the model makes predictions worse than just guessing the average, and can be a result of overfitting, bad test data etc.\n",
    "\n",
    "It's better to have a higher R^2 score. This measures the fitness of the model."
   ]
  },
  {
   "cell_type": "code",
   "id": "24539136189aedd2",
   "metadata": {
    "ExecuteTime": {
     "end_time": "2025-09-08T06:54:25.202681Z",
     "start_time": "2025-09-08T06:54:25.199419Z"
    }
   },
   "source": [
    "# skæring ved x-aksen\n",
    "theta_0 = model.intercept_\n",
    "# koefficienten\n",
    "theta_1 = model.coef_[0]\n",
    "print(f\"h(x) = {theta_0[0]:.4f} + {theta_1[0]}x\")\n",
    "\n",
    "u = np.sum((y - model.predict(X))**2)\n",
    "v = np.sum((y - np.mean(y))**2)\n",
    "\n",
    "R2 = 1 - u/v\n",
    "R2_skl = model.score(X, y)\n",
    "print(f\"R2 = {R2}\")\n",
    "print(f\"R2_skl = {R2_skl}\")"
   ],
   "outputs": [
    {
     "name": "stdout",
     "output_type": "stream",
     "text": [
      "h(x) = 4.8531 + 4.911544589158485e-05x\n",
      "R2 = 0.734441435543703\n",
      "R2_skl = 0.734441435543703\n"
     ]
    }
   ],
   "execution_count": 46
  },
  {
   "cell_type": "markdown",
   "id": "5cfdcf39d69e6de2",
   "metadata": {},
   "source": [
    "### Qb) Using k-Nearest Neighbors\n"
   ]
  },
  {
   "cell_type": "markdown",
   "id": "52ea7955f149e11c",
   "metadata": {},
   "source": [
    "### Answers\n",
    "\n",
    "KNN regressor also uses R^2 as a score, so in that regard they can be compared to each other. However, the knn model might overfit to the data, since k=3 allows for the model to fluctuate a bit."
   ]
  },
  {
   "cell_type": "code",
   "id": "980d20514f057dbe",
   "metadata": {
    "ExecuteTime": {
     "end_time": "2025-09-08T06:54:25.323407Z",
     "start_time": "2025-09-08T06:54:25.213848Z"
    }
   },
   "source": [
    "# Prepare the data\n",
    "X = np.c_[country_stats[\"GDP per capita\"]]\n",
    "y = np.c_[country_stats[\"Life satisfaction\"]]\n",
    "\n",
    "print(\"X.shape=\",X.shape)\n",
    "print(\"y.shape=\",y.shape)\n",
    "\n",
    "# Visualize the data\n",
    "country_stats.plot(kind='scatter', x=\"GDP per capita\", y='Life satisfaction')\n",
    "plt.show()\n",
    "\n",
    "# Select and train a model\n",
    "k = 3\n",
    "knn = sklearn.neighbors.KNeighborsRegressor(k)\n",
    "knn.fit(X, y)\n",
    "\n",
    "# Plot knn\n",
    "m = np.linspace(0, 60000, 1000)\n",
    "M = np.empty([m.shape[0], 1])\n",
    "M[:, 0] = m\n",
    "\n",
    "y_pred_lin = model.predict(M)  # Linear regression predictions\n",
    "y_pred_knn = knn.predict(M)\n",
    "\n",
    "# Create the plot\n",
    "country_stats.plot(kind='scatter', x=\"GDP per capita\", y='Life satisfaction', figsize=(8, 6))\n",
    "plt.axis([0, 60000, 0, 10])\n",
    "\n",
    "# Plot both model predictions\n",
    "plt.plot(m, y_pred_lin, \"r-\", label=\"Linear Regression\", linewidth=2)\n",
    "plt.plot(m, y_pred_knn, \"b--\", label=f\"KNN (k={k})\", linewidth=2)\n",
    "\n",
    "# Add labels and legend\n",
    "plt.xlabel(\"GDP per capita (USD)\")\n",
    "plt.ylabel(\"Life satisfaction\")\n",
    "plt.legend()\n",
    "plt.title(\"Comparison of Linear Regression vs KNN Regression\")\n",
    "plt.show()\n",
    "\n",
    "# Print model performance\n",
    "print(f\"Linear Regression Score (R²): {model.score(X, y):.3f}\")\n",
    "print(f\"KNN Score (R²): {knn.score(X, y):.3f}\")\n",
    "\n",
    "# Make prediction for Cyprus\n",
    "X_cyprus = [[22587]]\n",
    "lin_pred = model.predict(X_cyprus)\n",
    "knn_pred = knn.predict(X_cyprus)\n",
    "\n",
    "print(f\"\\nPredictions for Cyprus (GDP = 22587 USD):\")\n",
    "print(f\"Linear Regression: {lin_pred[0][0]:.2f}\")\n",
    "print(f\"KNN (k={k}): {knn_pred[0]}\")\n",
    "\n",
    "knn_score = knn.score(X, y)\n",
    "print(f\"KNN score              : {knn_score}\")\n",
    "print(f\"Linear Regression score: {R2_skl}\")\n"
   ],
   "outputs": [
    {
     "name": "stdout",
     "output_type": "stream",
     "text": [
      "X.shape= (29, 1)\n",
      "y.shape= (29, 1)\n"
     ]
    },
    {
     "data": {
      "text/plain": [
       "<Figure size 640x480 with 1 Axes>"
      ],
      "image/png": "[encoded data removed]"
     },
     "metadata": {},
     "output_type": "display_data"
    },
    {
     "data": {
      "text/plain": [
       "<Figure size 800x600 with 1 Axes>"
      ],
      "image/png": "[encoded data removed]"
     },
     "metadata": {},
     "output_type": "display_data"
    },
    {
     "name": "stdout",
     "output_type": "stream",
     "text": [
      "Linear Regression Score (R²): 0.734\n",
      "KNN Score (R²): 0.853\n",
      "\n",
      "Predictions for Cyprus (GDP = 22587 USD):\n",
      "Linear Regression: 5.96\n",
      "KNN (k=3): [5.76666667]\n",
      "KNN score              : 0.8525732853499179\n",
      "Linear Regression score: 0.734441435543703\n"
     ]
    }
   ],
   "execution_count": 47
  },
  {
   "cell_type": "markdown",
   "id": "be232cb282708caa",
   "metadata": {},
   "source": [
    "### Qc) Tuning Parameter for k-Nearest Neighbors and A Sanity Check\n"
   ]
  },
  {
   "cell_type": "markdown",
   "id": "d56c6f78cab845c",
   "metadata": {},
   "source": [
    "### Answers\n",
    "\n",
    "While a k = 1 produces a score $R^2$ of 1, this is highly overfitted, and would probably not produce accurate predictions on new data."
   ]
  },
  {
   "cell_type": "code",
   "id": "815410ae321abffc",
   "metadata": {
    "ExecuteTime": {
     "end_time": "2025-09-08T06:54:25.391952Z",
     "start_time": "2025-09-08T06:54:25.330386Z"
    }
   },
   "source": [
    "country_stats.plot(kind='scatter', x=\"GDP per capita\", y='Life satisfaction', figsize=(5,3))\n",
    "plt.axis([0, 60000, 0, 10])\n",
    "\n",
    "# create an test matrix M, with the same dimensionality as X, and in the range [0;60000]\n",
    "# and a step size of your choice\n",
    "m=np.linspace(0, 60000, 1000)\n",
    "M=np.empty([m.shape[0],1])\n",
    "M[:,0]=m\n",
    "\n",
    "# from this test M data, predict the y values via the lin.reg. and k-nearest models\n",
    "y_pred_lin = model.predict(M)\n",
    "y_pred_knn = knn.predict(M)   # ASSUMING the variable name 'knn' of your KNeighborsRegressor\n",
    "\n",
    "# use plt.plot to plot x-y into the sample_data plot..\n",
    "plt.plot(m, y_pred_lin, \"r\", label=\"Linear Regression\")\n",
    "plt.plot(m, y_pred_knn, \"b\", label=\"KNN (k=3)\")\n",
    "knn_score3 = knn.score(X, y)\n",
    "\n",
    "knn = sklearn.neighbors.KNeighborsRegressor(1)\n",
    "knn.fit(X, y)\n",
    "knn_score1 = knn.score(X, y)\n",
    "y_pred_knn1 = knn.predict(M)\n",
    "plt.plot(m, y_pred_knn1, \"y--\", label=\"KNN (k=1)\")\n",
    "\n",
    "knn = sklearn.neighbors.KNeighborsRegressor(2)\n",
    "knn.fit(X, y)\n",
    "knn_score2 = knn.score(X, y)\n",
    "y_pred_knn2 = knn.predict(M)\n",
    "plt.plot(m, y_pred_knn2, \"g--\", label=\"KNN (k=2)\")\n",
    "\n",
    "knn = sklearn.neighbors.KNeighborsRegressor(10)\n",
    "knn.fit(X, y)\n",
    "knn_score10 = knn.score(X, y)\n",
    "y_pred_knn10 = knn.predict(M)\n",
    "plt.plot(m, y_pred_knn10, \"k--\", label=\"KNN (k=10)\")\n",
    "\n",
    "plt.legend()\n",
    "plt.show()\n",
    "\n",
    "#scores\n",
    "print(f\"KNN score (k=1)   : {knn_score1}\")\n",
    "print(f\"KNN score (k=2)   : {knn_score2}\")\n",
    "print(f\"KNN score (k=3)   : {knn_score3}\")\n",
    "print(f\"KNN score (k=10)  : {knn_score10}\")\n",
    "print(f\"Linear Regression score: {R2_skl}\")"
   ],
   "outputs": [
    {
     "data": {
      "text/plain": [
       "<Figure size 500x300 with 1 Axes>"
      ],
      "image/png": "[encoded data removed]"
     },
     "metadata": {},
     "output_type": "display_data"
    },
    {
     "name": "stdout",
     "output_type": "stream",
     "text": [
      "KNN score (k=1)   : 1.0\n",
      "KNN score (k=2)   : 0.9091881835016248\n",
      "KNN score (k=3)   : 0.8525732853499179\n",
      "KNN score (k=10)  : 0.7833080605150065\n",
      "Linear Regression score: 0.734441435543703\n"
     ]
    }
   ],
   "execution_count": 48
  },
  {
   "cell_type": "markdown",
   "id": "f3337d2af27f0d50",
   "metadata": {},
   "source": [
    "### Qd) Trying out a Neural Network\n"
   ]
  },
  {
   "cell_type": "code",
   "id": "a924913c5a5c5fb1",
   "metadata": {
    "ExecuteTime": {
     "end_time": "2025-09-08T06:54:25.475432Z",
     "start_time": "2025-09-08T06:54:25.398929Z"
    }
   },
   "source": [
    "from sklearn.neural_network import MLPRegressor\n",
    "\n",
    "# Setup MLPRegressor\n",
    "mlp = MLPRegressor( hidden_layer_sizes=(10,), solver='adam', activation='relu', tol=1E-5, max_iter=100000, verbose=True)\n",
    "mlp.fit(X, y.ravel())\n",
    "\n",
    "# lets make a MLP regressor prediction and redo the plots\n",
    "y_pred_mlp = mlp.predict(M)\n",
    "\n",
    "mlp_score = mlp.score(X, y)\n",
    "\n",
    "plt.plot(m, y_pred_lin, \"r\", label=\"Linear Regression\")\n",
    "plt.plot(m, y_pred_knn, \"b\", label=\"KNN (k=3)\")\n",
    "plt.plot(m, y_pred_mlp, \"k\", label=\"MLP (h=10)\")\n",
    "\n",
    "plt.legend()\n",
    "plt.show()\n",
    "\n",
    "y_nn_pred = mlp.predict(X_cyprus)\n",
    "print(f\"Predictions for Cyprus (GDP = 22587 USD): {y_nn_pred[0]}\")\n",
    "\n",
    "# Scores\n",
    "print(f\"KNN score (k=3)   : {knn_score3}\")\n",
    "print(f\"Linear Regression score: {R2_skl}\")\n",
    "print(f\"MLP score         : {mlp_score}\")\n"
   ],
   "outputs": [
    {
     "name": "stdout",
     "output_type": "stream",
     "text": [
      "Iteration 1, loss = 99170725.72996271\n",
      "Iteration 2, loss = 97030823.18304452\n",
      "Iteration 3, loss = 94915924.69634074\n",
      "Iteration 4, loss = 92826414.98061939\n",
      "Iteration 5, loss = 90762660.61519228\n",
      "Iteration 6, loss = 88725009.07131366\n",
      "Iteration 7, loss = 86713787.80765365\n",
      "Iteration 8, loss = 84729303.44586109\n",
      "Iteration 9, loss = 82771841.03320022\n",
      "Iteration 10, loss = 80841663.39808705\n",
      "Iteration 11, loss = 78939010.60310401\n",
      "Iteration 12, loss = 77064099.49878524\n",
      "Iteration 13, loss = 75217123.38016845\n",
      "Iteration 14, loss = 73398251.74683310\n",
      "Iteration 15, loss = 71607630.16591966\n",
      "Iteration 16, loss = 69845380.23646612\n",
      "Iteration 17, loss = 68111599.65232871\n",
      "Iteration 18, loss = 66406362.35998617\n",
      "Iteration 19, loss = 64729718.80667450\n",
      "Iteration 20, loss = 63081696.27356499\n",
      "Iteration 21, loss = 61462299.28809256\n",
      "Iteration 22, loss = 59871510.10905918\n",
      "Iteration 23, loss = 58309289.27778146\n",
      "Iteration 24, loss = 56775576.22831492\n",
      "Iteration 25, loss = 55270289.94966504\n",
      "Iteration 26, loss = 53793329.69287833\n",
      "Iteration 27, loss = 52344575.71598575\n",
      "Iteration 28, loss = 50923890.05993544\n",
      "Iteration 29, loss = 49531117.34888946\n",
      "Iteration 30, loss = 48166085.60856284\n",
      "Iteration 31, loss = 46828607.09663261\n",
      "Iteration 32, loss = 45518479.13964114\n",
      "Iteration 33, loss = 44235484.97123758\n",
      "Iteration 34, loss = 42979394.56704579\n",
      "Iteration 35, loss = 41749965.47189894\n",
      "Iteration 36, loss = 40546943.61563800\n",
      "Iteration 37, loss = 39370064.11412163\n",
      "Iteration 38, loss = 38219052.05253708\n",
      "Iteration 39, loss = 37093623.24852656\n",
      "Iteration 40, loss = 35993484.99304889\n",
      "Iteration 41, loss = 34918336.76728017\n",
      "Iteration 42, loss = 33867870.93421264\n",
      "Iteration 43, loss = 32841773.40394320\n",
      "Iteration 44, loss = 31839724.27194386\n",
      "Iteration 45, loss = 30861398.42988118\n",
      "Iteration 46, loss = 29906466.14879730\n",
      "Iteration 47, loss = 28974593.63468355\n",
      "Iteration 48, loss = 28065443.55666839\n",
      "Iteration 49, loss = 27178675.54820861\n",
      "Iteration 50, loss = 26313946.68181298\n",
      "Iteration 51, loss = 25470911.91794819\n",
      "Iteration 52, loss = 24649224.52887426\n",
      "Iteration 53, loss = 23848536.49823599\n",
      "Iteration 54, loss = 23068498.89729881\n",
      "Iteration 55, loss = 22308762.23876261\n",
      "Iteration 56, loss = 21568976.80911950\n",
      "Iteration 57, loss = 20848792.98053971\n",
      "Iteration 58, loss = 20147861.50327861\n",
      "Iteration 59, loss = 19465833.77959583\n",
      "Iteration 60, loss = 18802362.12016794\n",
      "Iteration 61, loss = 18157099.98395925\n",
      "Iteration 62, loss = 17529702.20249253\n",
      "Iteration 63, loss = 16919825.18943427\n",
      "Iteration 64, loss = 16327127.13637747\n",
      "Iteration 65, loss = 15751268.19567025\n",
      "Iteration 66, loss = 15191910.65110227\n",
      "Iteration 67, loss = 14648719.07722219\n",
      "Iteration 68, loss = 14121360.48801995\n",
      "Iteration 69, loss = 13609504.47566741\n",
      "Iteration 70, loss = 13112823.33997101\n",
      "Iteration 71, loss = 12630992.20914980\n",
      "Iteration 72, loss = 12163689.15251285\n",
      "Iteration 73, loss = 11710595.28557138\n",
      "Iteration 74, loss = 11271394.86808367\n",
      "Iteration 75, loss = 10845775.39549396\n",
      "Iteration 76, loss = 10433427.68419195\n",
      "Iteration 77, loss = 10034045.95098584\n",
      "Iteration 78, loss = 9647327.88714970\n",
      "Iteration 79, loss = 9272974.72737588\n",
      "Iteration 80, loss = 8910691.31393415\n",
      "Iteration 81, loss = 8560186.15631232\n",
      "Iteration 82, loss = 8221171.48658747\n",
      "Iteration 83, loss = 7893363.31075351\n",
      "Iteration 84, loss = 7576481.45620804\n",
      "Iteration 85, loss = 7270249.61558149\n",
      "Iteration 86, loss = 6974395.38707208\n",
      "Iteration 87, loss = 6688650.31143287\n",
      "Iteration 88, loss = 6412749.90574102\n",
      "Iteration 89, loss = 6146433.69406476\n",
      "Iteration 90, loss = 5889445.23513032\n",
      "Iteration 91, loss = 5641532.14707894\n",
      "Iteration 92, loss = 5402446.12939372\n",
      "Iteration 93, loss = 5171942.98206583\n",
      "Iteration 94, loss = 4949782.62206190\n",
      "Iteration 95, loss = 4735729.09714641\n",
      "Iteration 96, loss = 4529550.59710683\n",
      "Iteration 97, loss = 4331019.46242368\n",
      "Iteration 98, loss = 4139912.19042310\n",
      "Iteration 99, loss = 3956009.43894582\n",
      "Iteration 100, loss = 3779096.02756328\n",
      "Iteration 101, loss = 3608960.93636957\n",
      "Iteration 102, loss = 3445397.30237599\n",
      "Iteration 103, loss = 3288202.41353424\n",
      "Iteration 104, loss = 3137177.70041364\n",
      "Iteration 105, loss = 2992128.72555776\n",
      "Iteration 106, loss = 2852865.17054643\n",
      "Iteration 107, loss = 2719200.82079006\n",
      "Iteration 108, loss = 2590953.54808422\n",
      "Iteration 109, loss = 2467945.29095423\n",
      "Iteration 110, loss = 2350002.03282122\n",
      "Iteration 111, loss = 2236953.77802330\n",
      "Iteration 112, loss = 2128634.52572779\n",
      "Iteration 113, loss = 2024882.24177276\n",
      "Iteration 114, loss = 1925538.82847892\n",
      "Iteration 115, loss = 1830450.09247540\n",
      "Iteration 116, loss = 1739465.71058584\n",
      "Iteration 117, loss = 1652439.19382380\n",
      "Iteration 118, loss = 1569227.84954952\n",
      "Iteration 119, loss = 1489692.74184254\n",
      "Iteration 120, loss = 1413698.65014762\n",
      "Iteration 121, loss = 1341114.02625381\n",
      "Iteration 122, loss = 1271810.94966929\n",
      "Iteration 123, loss = 1205665.08145679\n",
      "Iteration 124, loss = 1142555.61659689\n",
      "Iteration 125, loss = 1082365.23494850\n",
      "Iteration 126, loss = 1024980.05087788\n",
      "Iteration 127, loss = 970289.56162936\n",
      "Iteration 128, loss = 918186.59451253\n",
      "Iteration 129, loss = 868567.25298210\n",
      "Iteration 130, loss = 821330.86168784\n",
      "Iteration 131, loss = 776379.91057321\n",
      "Iteration 132, loss = 733619.99810170\n",
      "Iteration 133, loss = 692959.77369099\n",
      "Iteration 134, loss = 654310.87943504\n",
      "Iteration 135, loss = 617587.89119459\n",
      "Iteration 136, loss = 582708.25913631\n",
      "Iteration 137, loss = 549592.24780088\n",
      "Iteration 138, loss = 518162.87577939\n",
      "Iteration 139, loss = 488345.85507716\n",
      "Iteration 140, loss = 460069.53024295\n",
      "Iteration 141, loss = 433264.81734047\n",
      "Iteration 142, loss = 407865.14283803\n",
      "Iteration 143, loss = 383806.38249047\n",
      "Iteration 144, loss = 361026.80028609\n",
      "Iteration 145, loss = 339466.98752946\n",
      "Iteration 146, loss = 319069.80212909\n",
      "Iteration 147, loss = 299780.30815685\n",
      "Iteration 148, loss = 281545.71574395\n",
      "Iteration 149, loss = 264315.32137583\n",
      "Iteration 150, loss = 248040.44864609\n",
      "Iteration 151, loss = 232674.38952698\n",
      "Iteration 152, loss = 218172.34621137\n",
      "Iteration 153, loss = 204491.37357864\n",
      "Iteration 154, loss = 191590.32233395\n",
      "Iteration 155, loss = 179429.78286795\n",
      "Iteration 156, loss = 167972.02988081\n",
      "Iteration 157, loss = 157180.96781205\n",
      "Iteration 158, loss = 147022.07711438\n",
      "Iteration 159, loss = 137462.36140737\n",
      "Iteration 160, loss = 128470.29554359\n",
      "Iteration 161, loss = 120015.77461727\n",
      "Iteration 162, loss = 112070.06394261\n",
      "Iteration 163, loss = 104605.75002623\n",
      "Iteration 164, loss = 97596.69255543\n",
      "Iteration 165, loss = 91017.97742134\n",
      "Iteration 166, loss = 84845.87079338\n",
      "Iteration 167, loss = 79057.77425900\n",
      "Iteration 168, loss = 73632.18104001\n",
      "Iteration 169, loss = 68548.63329452\n",
      "Iteration 170, loss = 63787.68051135\n",
      "Iteration 171, loss = 59330.83900106\n",
      "Iteration 172, loss = 55160.55248602\n",
      "Iteration 173, loss = 51260.15378984\n",
      "Iteration 174, loss = 47613.82762400\n",
      "Iteration 175, loss = 44206.57446846\n",
      "Iteration 176, loss = 41024.17554036\n",
      "Iteration 177, loss = 38053.15884396\n",
      "Iteration 178, loss = 35280.76629281\n",
      "Iteration 179, loss = 32694.92189406\n",
      "Iteration 180, loss = 30284.20098304\n",
      "Iteration 181, loss = 28037.80049527\n",
      "Iteration 182, loss = 25945.51026165\n",
      "Iteration 183, loss = 23997.68531138\n",
      "Iteration 184, loss = 22185.21916647\n",
      "Iteration 185, loss = 20499.51811029\n",
      "Iteration 186, loss = 18932.47641229\n",
      "Iteration 187, loss = 17476.45248976\n",
      "Iteration 188, loss = 16124.24598715\n",
      "Iteration 189, loss = 14869.07575287\n",
      "Iteration 190, loss = 13704.55869269\n",
      "Iteration 191, loss = 12624.68947888\n",
      "Iteration 192, loss = 11623.82109330\n",
      "Iteration 193, loss = 10696.64618305\n",
      "Iteration 194, loss = 9838.17920634\n",
      "Iteration 195, loss = 9043.73934663\n",
      "Iteration 196, loss = 8308.93417270\n",
      "Iteration 197, loss = 7629.64402244\n",
      "Iteration 198, loss = 7002.00708795\n",
      "Iteration 199, loss = 6422.40517981\n",
      "Iteration 200, loss = 5887.45014843\n",
      "Iteration 201, loss = 5393.97094041\n",
      "Iteration 202, loss = 4939.00126828\n",
      "Iteration 203, loss = 4519.76787200\n",
      "Iteration 204, loss = 4133.67935099\n",
      "Iteration 205, loss = 3778.31554567\n",
      "Iteration 206, loss = 3451.41744805\n",
      "Iteration 207, loss = 3150.87762087\n",
      "Iteration 208, loss = 2874.73110554\n",
      "Iteration 209, loss = 2621.14679935\n",
      "Iteration 210, loss = 2388.41928286\n",
      "Iteration 211, loss = 2174.96107885\n",
      "Iteration 212, loss = 1979.29532466\n",
      "Iteration 213, loss = 1800.04829083\n",
      "Iteration 214, loss = 1553.84541504\n",
      "Iteration 215, loss = 1321.84110215\n",
      "Iteration 216, loss = 1077.79523100\n",
      "Iteration 217, loss = 834.63706294\n",
      "Iteration 218, loss = 602.79013543\n",
      "Iteration 219, loss = 393.00166153\n",
      "Iteration 220, loss = 216.98105004\n",
      "Iteration 221, loss = 87.04825714\n",
      "Iteration 222, loss = 14.52971518\n",
      "Iteration 223, loss = 5.73790597\n",
      "Iteration 224, loss = 54.03447369\n",
      "Iteration 225, loss = 132.21216048\n",
      "Iteration 226, loss = 202.28547210\n",
      "Iteration 227, loss = 239.36000703\n",
      "Iteration 228, loss = 239.10478129\n",
      "Iteration 229, loss = 210.06049893\n",
      "Iteration 230, loss = 165.11265069\n",
      "Iteration 231, loss = 116.29861212\n",
      "Iteration 232, loss = 72.43148872\n",
      "Iteration 233, loss = 38.51164614\n",
      "Iteration 234, loss = 16.16743823\n",
      "Training loss did not improve more than tol=0.000010 for 10 consecutive epochs. Stopping.\n"
     ]
    },
    {
     "data": {
      "text/plain": [
       "<Figure size 640x480 with 1 Axes>"
      ],
      "image/png": "[encoded data removed]"
     },
     "metadata": {},
     "output_type": "display_data"
    },
    {
     "name": "stdout",
     "output_type": "stream",
     "text": [
      "Predictions for Cyprus (GDP = 22587 USD): 5.607552866886286\n",
      "KNN score (k=3)   : 0.8525732853499179\n",
      "Linear Regression score: 0.734441435543703\n",
      "MLP score         : -12.499626825078327\n"
     ]
    }
   ],
   "execution_count": 49
  },
  {
   "metadata": {},
   "cell_type": "markdown",
   "source": "## Cost Function",
   "id": "c9c97fb205dce05f"
  },
  {
   "metadata": {},
   "cell_type": "markdown",
   "source": "### Qa Given the following $\\mathbf{x}^{(i)}$'s, construct and print the $\\mathbf X$ matrix in python.\n",
   "id": "dccbe76fad118ccb"
  },
  {
   "metadata": {},
   "cell_type": "markdown",
   "source": "Definitions of $x^{(i)}$'s is stripped from this pdf - can be found in original exercise notebook.",
   "id": "4d5579d6cfb45304"
  },
  {
   "metadata": {
    "ExecuteTime": {
     "end_time": "2025-09-08T06:54:25.483936Z",
     "start_time": "2025-09-08T06:54:25.481761Z"
    }
   },
   "cell_type": "code",
   "source": [
    "import numpy as np\n",
    "\n",
    "y_true = np.array([1,2,3,4]) # NOTE: you'll need this later\n",
    "X = np.array([[1,2,3],[4,2,1],[3,8,5],[-9,-1,0]])\n",
    "\n",
    "print(\"X_true = \\n\", X)"
   ],
   "id": "ea699728f45d25cd",
   "outputs": [
    {
     "name": "stdout",
     "output_type": "stream",
     "text": [
      "X_true = \n",
      " [[ 1  2  3]\n",
      " [ 4  2  1]\n",
      " [ 3  8  5]\n",
      " [-9 -1  0]]\n"
     ]
    }
   ],
   "execution_count": 50
  },
  {
   "metadata": {},
   "cell_type": "markdown",
   "source": [
    "#### Qb Implement the $\\norm{1}$ and $\\norm{2}$ norms for vectors in python.\n",
    "\n",
    "\n"
   ],
   "id": "ded02aa149e4d09"
  },
  {
   "metadata": {
    "ExecuteTime": {
     "end_time": "2025-09-08T06:54:25.497112Z",
     "start_time": "2025-09-08T06:54:25.493295Z"
    }
   },
   "cell_type": "code",
   "source": [
    "import math\n",
    "\n",
    "def L1(x):\n",
    "    assert x.ndim == 1\n",
    "    sum = 0\n",
    "    for i in range(len(x)):\n",
    "        current = x[i]\n",
    "        if current < 0:\n",
    "            current *= -1\n",
    "        sum += current\n",
    "    return sum\n",
    "\n",
    "def L2(x):\n",
    "    assert x.ndim == 1\n",
    "    sum = 0\n",
    "    for i in range(len(x)):\n",
    "        sum += x[i] ** 2\n",
    "    return sum ** 0.5\n",
    "\n",
    "def L2Dot(x):\n",
    "    assert x.ndim == 1 and isinstance(x, np.ndarray)\n",
    "    return x.dot(x)**0.5\n",
    "\n",
    "# TEST vectors: here I test your implementation...calling your L1() and L2() functions\n",
    "tx=np.array([1, 2, 3, -1])\n",
    "ty=np.array([3,-1, 4,  1])\n",
    "\n",
    "expected_d1=8.0\n",
    "expected_d2=4.242640687119285\n",
    "\n",
    "d1=L1(tx-ty)\n",
    "d2=L2(tx-ty)\n",
    "\n",
    "print(f\"tx-ty={tx-ty}, d1-expected_d1={d1-expected_d1}, d2-expected_d2={d2-expected_d2}\")\n",
    "\n",
    "eps=1E-9\n",
    "assert math.fabs(d1-expected_d1)<eps, \"L1 dist seems to be wrong\"\n",
    "assert math.fabs(d2-expected_d2)<eps, \"L2 dist seems to be wrong\"\n",
    "\n",
    "print(\"OK(part-1)\")\n",
    "\n",
    "d2dot=L2Dot(tx-ty)\n",
    "print(\"d2dot-expected_d2=\",d2dot-expected_d2)\n",
    "assert math.fabs(d2dot-expected_d2)<eps, \"L2Ddot dist seem to be wrong\"\n",
    "print(\"OK(part-2)\")"
   ],
   "id": "15d41369c827442d",
   "outputs": [
    {
     "name": "stdout",
     "output_type": "stream",
     "text": [
      "tx-ty=[-2  3 -1 -2], d1-expected_d1=0.0, d2-expected_d2=0.0\n",
      "OK(part-1)\n",
      "d2dot-expected_d2= 0.0\n",
      "OK(part-2)\n"
     ]
    }
   ],
   "execution_count": 51
  },
  {
   "metadata": {},
   "cell_type": "markdown",
   "source": "### Qc Construct the Root Mean Square Error (RMSE) function (Equation 2-1 [HOML]).",
   "id": "4bbabb156dd97c60"
  },
  {
   "metadata": {
    "ExecuteTime": {
     "end_time": "2025-09-08T06:54:25.520318Z",
     "start_time": "2025-09-08T06:54:25.517414Z"
    }
   },
   "cell_type": "code",
   "source": [
    "def RMSE(y_pred, y_true):\n",
    "    assert len(y_pred) == len(y_true) and y_pred.ndim == 1 and y_true.ndim == 1\n",
    "    err_vec = y_pred - y_true\n",
    "    l2 = L2(err_vec)\n",
    "    return l2 / len(err_vec)**0.5\n",
    "\n",
    "# Dummy h function:\n",
    "def h(X):\n",
    "    if X.ndim!=2:\n",
    "        raise ValueError(\"excpeted X to be of ndim=2, got ndim=\",X.ndim)\n",
    "    if X.shape[0]==0 or X.shape[1]==0:\n",
    "        raise ValueError(\"X got zero data along the 0/1 axis, cannot continue\")\n",
    "    return X[:,0]\n",
    "\n",
    "# Calls your RMSE() function:\n",
    "r=RMSE(h(X), y_true)\n",
    "\n",
    "eps=1E-9\n",
    "expected=6.57647321898295\n",
    "print(f\"RMSE={r}, diff={r-expected}\")\n",
    "assert math.fabs(r-expected)<eps, \"your RMSE dist seems to be wrong\"\n",
    "\n",
    "print(\"OK\")"
   ],
   "id": "19f5ce784b9a6bd7",
   "outputs": [
    {
     "name": "stdout",
     "output_type": "stream",
     "text": [
      "RMSE=6.576473218982953, diff=2.6645352591003757e-15\n",
      "OK\n"
     ]
    }
   ],
   "execution_count": 52
  },
  {
   "metadata": {},
   "cell_type": "markdown",
   "source": "#### Qd Similar construct the Mean Absolute Error (MAE) function (Equation 2-2 [HOML]) and evaluate it.",
   "id": "a3b95ab3385af3e5"
  },
  {
   "metadata": {
    "ExecuteTime": {
     "end_time": "2025-09-08T06:54:25.535417Z",
     "start_time": "2025-09-08T06:54:25.532820Z"
    }
   },
   "cell_type": "code",
   "source": [
    "def MAE(y_pred, y_true):\n",
    "    assert len(y_pred) == len(y_true) and y_pred.ndim == 1 and y_true.ndim == 1\n",
    "    err_vec = y_pred - y_true\n",
    "    return L1(err_vec) / len(err_vec)\n",
    "\n",
    "\n",
    "# Calls your MAE function:\n",
    "r=MAE(h(X), y_true)\n",
    "\n",
    "# TEST vector:\n",
    "expected=3.75\n",
    "print(f\"MAE={r}, diff={r-expected}\")\n",
    "assert math.fabs(r-expected)<eps, \"MAE dist seems to be wrong\"\n",
    "\n",
    "print(\"OK\")"
   ],
   "id": "c8bd69850f6c0af3",
   "outputs": [
    {
     "name": "stdout",
     "output_type": "stream",
     "text": [
      "MAE=3.75, diff=0.0\n",
      "OK\n"
     ]
    }
   ],
   "execution_count": 53
  },
  {
   "metadata": {},
   "cell_type": "markdown",
   "source": [
    "### Qe Robust Code\n",
    "\n",
    "The functions above in this journal section are already made robust with asserts."
   ],
   "id": "6f96b2fefbfe49af"
  },
  {
   "metadata": {},
   "cell_type": "markdown",
   "source": [
    "### Qf Conclusion\n",
    "\n",
    "#### Answer\n",
    "\n",
    "Cost functions are at the basis of what the algorithms view as a success or not. A cost function is essentially, what the measure the machine should look for when training, or try to minimize. What lies behind the cost function is therefore essential. The $\\norm{1}$ and $\\norm{2}$ calculations are some of the key ingredients in the basic cost functions, and understanding how they work, and what they represent is key.\n",
    "\n",
    "When $\\norm{1}$ is used, the absolute errors are simply summed up. But the $\\norm{2}$ squares all of the errors, which means it is more sensitive to outlier data, and is more punishing at larger errors.\n"
   ],
   "id": "177ab8bf682f326b"
  },
  {
   "metadata": {},
   "cell_type": "markdown",
   "source": "## Dummy Classifier",
   "id": "c9fd0172e364530f"
  },
  {
   "metadata": {},
   "cell_type": "markdown",
   "source": "#### Qa  Load and display the MNIST data\n",
   "id": "d44a611fb01429ca"
  },
  {
   "metadata": {
    "ExecuteTime": {
     "end_time": "2025-09-08T06:54:28.175651Z",
     "start_time": "2025-09-08T06:54:25.543608Z"
    }
   },
   "cell_type": "code",
   "source": [
    "import matplotlib.pyplot as plt\n",
    "import matplotlib\n",
    "from sklearn.datasets import fetch_openml\n",
    "\n",
    "def MNIIST_GetDataSet():\n",
    "    X, y = fetch_openml('mnist_784', return_X_y=True, cache=True, as_frame=False)\n",
    "    return X, y\n",
    "\n",
    "X, y = MNIIST_GetDataSet()\n",
    "print(f\"Shape of X: {X.shape}\")"
   ],
   "id": "d3164043ebec12b5",
   "outputs": [
    {
     "name": "stdout",
     "output_type": "stream",
     "text": [
      "Shape of X: (70000, 784)\n"
     ]
    }
   ],
   "execution_count": 54
  },
  {
   "metadata": {
    "ExecuteTime": {
     "end_time": "2025-09-08T06:54:28.206786Z",
     "start_time": "2025-09-08T06:54:28.182404Z"
    }
   },
   "cell_type": "code",
   "source": [
    "def MNIST_PlotDigit(data):\n",
    "    image = data.reshape(28, 28)\n",
    "    plt.imshow(image, cmap = matplotlib.cm.binary)\n",
    "    plt.axis(\"off\")\n",
    "\n",
    "MNIST_PlotDigit(X[0])\n",
    "plt.show()"
   ],
   "id": "85b2ddae0ca6b07f",
   "outputs": [
    {
     "data": {
      "text/plain": [
       "<Figure size 640x480 with 1 Axes>"
      ],
      "image/png": "[encoded data removed]"
     },
     "metadata": {},
     "output_type": "display_data"
    }
   ],
   "execution_count": 55
  },
  {
   "metadata": {},
   "cell_type": "markdown",
   "source": "#### Qb  Add a Stochastic Gradient Decent [SGD] Classifier\n",
   "id": "6adf04b1c706e845"
  },
  {
   "metadata": {},
   "cell_type": "markdown",
   "source": "Below the data is split into train and test sets, and the SGD classifier is trained.",
   "id": "2afe4a4c716eede4"
  },
  {
   "metadata": {
    "ExecuteTime": {
     "end_time": "2025-09-08T06:54:35.888124Z",
     "start_time": "2025-09-08T06:54:28.211868Z"
    }
   },
   "cell_type": "code",
   "source": [
    "from sklearn.linear_model import SGDClassifier\n",
    "\n",
    "X_train, X_test, y_train, y_test = X[:50000], X[50000:], y[:50000], y[50000:]\n",
    "\n",
    "y_train_5 = (y_train == '5')\n",
    "y_test_5 = (y_test == '5')\n",
    "\n",
    "sgd_clf = SGDClassifier(random_state=42)\n",
    "sgd_clf.fit(X_train, y_train_5)\n",
    "\n",
    "sgd_predict_5 = sgd_clf.predict(X_test)"
   ],
   "id": "ec9aba2f1a0c66f",
   "outputs": [],
   "execution_count": 56
  },
  {
   "metadata": {},
   "cell_type": "markdown",
   "source": "In order to print some correctly classified and incorrectly classified digits, we first get some of the indecies of these digits:",
   "id": "85e9a3b2124bbb2a"
  },
  {
   "metadata": {
    "ExecuteTime": {
     "end_time": "2025-09-08T06:54:36.019525Z",
     "start_time": "2025-09-08T06:54:35.901226Z"
    }
   },
   "cell_type": "code",
   "source": [
    "true_positives = []\n",
    "false_positives = []\n",
    "false_negatives = []\n",
    "for i in range(len(y_test_5)):\n",
    "    if y_test_5[i] == True and sgd_predict_5[i] == True:\n",
    "        true_positives.append(i)\n",
    "    elif y_test_5[i] == False and sgd_predict_5[i] == True:\n",
    "        false_positives.append(i)\n",
    "    elif y_test_5[i] == True and sgd_predict_5[i] == False:\n",
    "        false_negatives.append(i)\n",
    "print(f\"Number of true positives : {len(true_positives)}\")\n",
    "print(f\"Number of false positives: {len(false_positives)}\")\n",
    "print(f\"Number of false negatives: {len(false_negatives)}\")"
   ],
   "id": "b1093de55887ec6a",
   "outputs": [
    {
     "name": "stdout",
     "output_type": "stream",
     "text": [
      "Number of true positives : 1523\n",
      "Number of false positives: 615\n",
      "Number of false negatives: 284\n"
     ]
    }
   ],
   "execution_count": 57
  },
  {
   "metadata": {},
   "cell_type": "markdown",
   "source": "Now we plot some digits:",
   "id": "3a37c80e93bdceb2"
  },
  {
   "metadata": {
    "ExecuteTime": {
     "end_time": "2025-09-08T06:54:36.154230Z",
     "start_time": "2025-09-08T06:54:36.046584Z"
    }
   },
   "cell_type": "code",
   "source": [
    "# Plotting some true positives:\n",
    "def PlotMultiple(amount, indicies, X):\n",
    "    fig, axes = plt.subplots(1, amount, figsize=(12, 4))\n",
    "    for i in range(amount):\n",
    "        plt.subplot(1, amount, i + 1)\n",
    "        MNIST_PlotDigit(X[indicies[i]])\n",
    "\n",
    "    plt.tight_layout()\n",
    "    plt.show()\n",
    "\n",
    "PlotMultiple(10, true_positives, X_test)"
   ],
   "id": "2318e328a54a0440",
   "outputs": [
    {
     "data": {
      "text/plain": [
       "<Figure size 1200x400 with 10 Axes>"
      ],
      "image/png": "[encoded data removed]"
     },
     "metadata": {},
     "output_type": "display_data"
    }
   ],
   "execution_count": 58
  },
  {
   "metadata": {
    "ExecuteTime": {
     "end_time": "2025-09-08T06:54:36.211831Z",
     "start_time": "2025-09-08T06:54:36.159113Z"
    }
   },
   "cell_type": "code",
   "source": [
    "# Plotting some false positives\n",
    "PlotMultiple(10, false_positives, X_test)"
   ],
   "id": "f363c007a2c393ba",
   "outputs": [
    {
     "data": {
      "text/plain": [
       "<Figure size 1200x400 with 10 Axes>"
      ],
      "image/png": "[encoded data removed]"
     },
     "metadata": {},
     "output_type": "display_data"
    }
   ],
   "execution_count": 59
  },
  {
   "metadata": {
    "ExecuteTime": {
     "end_time": "2025-09-08T06:54:36.267597Z",
     "start_time": "2025-09-08T06:54:36.216093Z"
    }
   },
   "cell_type": "code",
   "source": [
    "# Plotting some false negatives\n",
    "PlotMultiple(10, false_negatives, X_test)"
   ],
   "id": "47e1dbc114ba231a",
   "outputs": [
    {
     "data": {
      "text/plain": [
       "<Figure size 1200x400 with 10 Axes>"
      ],
      "image/png": "[encoded data removed]"
     },
     "metadata": {},
     "output_type": "display_data"
    }
   ],
   "execution_count": 60
  },
  {
   "metadata": {},
   "cell_type": "markdown",
   "source": "#### Qc Implement a dummy binary classifier\n",
   "id": "3a70d02f4583eb82"
  },
  {
   "metadata": {},
   "cell_type": "markdown",
   "source": "Below is a (very stupid) DummyClassifier, that simply takes in a 'strategy' and classifies everything as that strategy:",
   "id": "4e4c7c6dbc98b2ae"
  },
  {
   "metadata": {
    "ExecuteTime": {
     "end_time": "2025-09-08T06:54:36.275095Z",
     "start_time": "2025-09-08T06:54:36.272468Z"
    }
   },
   "cell_type": "code",
   "source": [
    "from sklearn.metrics import accuracy_score\n",
    "from sklearn.base import BaseEstimator, ClassifierMixin\n",
    "import numpy as np\n",
    "\n",
    "class DummyClassifier(BaseEstimator, ClassifierMixin):\n",
    "    def __init__(self, strategy):\n",
    "        self.strategy = strategy\n",
    "\n",
    "    def fit(self, X, y=None):\n",
    "        # Actually do nothing\n",
    "        return self\n",
    "\n",
    "    def predict(self, X):\n",
    "        n_samples = X.shape[0]\n",
    "        return np.full(n_samples, self.strategy)\n",
    "\n",
    "    def score(self, X, y):\n",
    "        y_pred = self.predict(X)\n",
    "        return accuracy_score(y, y_pred)"
   ],
   "id": "c165ef4df3a3fbef",
   "outputs": [],
   "execution_count": 61
  },
  {
   "metadata": {},
   "cell_type": "markdown",
   "source": "Testing the classifier and printing the score:",
   "id": "e82cd29d256ea91a"
  },
  {
   "metadata": {
    "ExecuteTime": {
     "end_time": "2025-09-08T06:54:36.285313Z",
     "start_time": "2025-09-08T06:54:36.281278Z"
    }
   },
   "cell_type": "code",
   "source": [
    "dummy = DummyClassifier(False)\n",
    "dummy.fit(X_train, y_train_5)\n",
    "\n",
    "dummy_pred = dummy.predict(X_test)\n",
    "dummy_score = dummy.score(X_test, y_test_5)\n",
    "print(f\"dummy_score: {dummy_score}\")"
   ],
   "id": "d7c3908adfba02bb",
   "outputs": [
    {
     "name": "stdout",
     "output_type": "stream",
     "text": [
      "dummy_score: 0.90965\n"
     ]
    }
   ],
   "execution_count": 62
  },
  {
   "metadata": {},
   "cell_type": "markdown",
   "source": "### Qd Conclusion",
   "id": "ef6c08d0bd1fbb9b"
  },
  {
   "metadata": {},
   "cell_type": "markdown",
   "source": [
    "### Answer\n",
    "\n",
    "In general, this exercise was mostly about getting the basic machine learning and sklearn techniques into our fingers.\n",
    "Splitting the MNIST test set for common ML best practices, and creating a very basic binary classifier adds greatly to the understanding of how ML works - and also that it is not magic. Even a fairly simple human catagorization of \"5 or not 5\" turns out to be not so easy, as can be seen on the plots of the false positives and false negatives. This was quite revealing, as some of the 5's looks like they should be easily recognizable.\n",
    "\n",
    "Also, this exercise gave some insight into how python classes work together with the sklearn library, when creating our own classifier. Something that might be useful when a very specific type of classification is needed, or later in the course."
   ],
   "id": "f5b5006c40e8a1d6"
  },
  {
   "metadata": {},
   "cell_type": "markdown",
   "source": "## Performance Metrics",
   "id": "607f223f65abad3d"
  },
  {
   "metadata": {},
   "cell_type": "markdown",
   "source": "### Qa Implement the Accuracy function and test it on the MNIST data.\n",
   "id": "70a7652b64ccf614"
  },
  {
   "metadata": {
    "ExecuteTime": {
     "end_time": "2025-09-08T06:54:36.376320Z",
     "start_time": "2025-09-08T06:54:36.290576Z"
    }
   },
   "cell_type": "code",
   "source": [
    "import math\n",
    "\n",
    "def UnpackPerfMetrics(y_true, y_pred):\n",
    "    assert y_true.shape == y_pred.shape and y_true.shape[0] > 0\n",
    "    TP, TN, FP, FN = 0, 0, 0, 0\n",
    "    for i, _ in enumerate(y_pred):\n",
    "        if y_true[i] == True and y_pred[i] == True:\n",
    "            TP += 1\n",
    "        elif y_true[i] == False and y_pred[i] == False:\n",
    "            TN += 1\n",
    "        elif y_true[i] == True and y_pred[i] == False:\n",
    "            FN += 1\n",
    "        else:\n",
    "            FP += 1\n",
    "    return TP, TN, FP, FN\n",
    "\n",
    "def MyAccuracy(y_true, y_pred):\n",
    "    TP, TN, FP, FN = UnpackPerfMetrics(y_true, y_pred)\n",
    "    accuracy = (TP + TN) / y_true.shape[0]\n",
    "    return accuracy\n",
    "\n",
    "from sklearn.metrics import accuracy_score\n",
    "\n",
    "def TestAccuracy(y_true, y_pred):\n",
    "    a0=MyAccuracy(y_true, y_pred)\n",
    "    a1=accuracy_score(y_true, y_pred)\n",
    "\n",
    "    print(f\"MyAccuracy     = {a0}\")\n",
    "    print(f\"accuracy_score = {a1}\")\n",
    "\n",
    "    eps = 1E-9\n",
    "    if math.fabs(a0 - a1) > eps:\n",
    "        raise ValueError(\"Difference in MyAccuracy and accuracy_score too big!\")\n",
    "\n",
    "TestAccuracy(y_test_5, sgd_predict_5)\n",
    "TestAccuracy(y_test_5, dummy_pred)\n"
   ],
   "id": "a22948252d30f4c",
   "outputs": [
    {
     "name": "stdout",
     "output_type": "stream",
     "text": [
      "MyAccuracy     = 0.95505\n",
      "accuracy_score = 0.95505\n",
      "MyAccuracy     = 0.90965\n",
      "accuracy_score = 0.90965\n"
     ]
    }
   ],
   "execution_count": 63
  },
  {
   "metadata": {},
   "cell_type": "markdown",
   "source": "### Qb Implement Precision, Recall and $F_1$-score and test it on the MNIST data for both the SGD and Dummy classifier models",
   "id": "5d765c84d7c7f875"
  },
  {
   "metadata": {
    "ExecuteTime": {
     "end_time": "2025-09-08T06:54:36.725120Z",
     "start_time": "2025-09-08T06:54:36.389891Z"
    }
   },
   "cell_type": "code",
   "source": [
    "from sklearn.metrics import precision_score, recall_score, f1_score\n",
    "def MyPrecision(y_true, y_pred):\n",
    "    TP, TN, FP, FN = UnpackPerfMetrics(y_true, y_pred)\n",
    "    if TP + FP == 0: return 0.0\n",
    "    return TP / (TP + FP)\n",
    "\n",
    "def MyRecall(y_true, y_pred):\n",
    "    TP, TN, FP, FN = UnpackPerfMetrics(y_true, y_pred)\n",
    "    if TP + FN == 0: return 0.0\n",
    "    return TP / (TP + FN)\n",
    "\n",
    "def MyF1Score(y_true, y_pred):\n",
    "    precision = MyPrecision(y_true, y_pred)\n",
    "    recall = MyRecall(y_true, y_pred)\n",
    "    if precision == 0 or recall == 0: return 0.0\n",
    "    return 2 / (1/precision + 1/recall)\n",
    "\n",
    "def TestMetrics(y_true, y_pred):\n",
    "    p0 = MyPrecision(y_true, y_pred)\n",
    "    p1 = precision_score(y_true, y_pred)\n",
    "\n",
    "    r0 = MyRecall(y_true, y_pred)\n",
    "    r1 = recall_score(y_true, y_pred)\n",
    "\n",
    "    f1_0 = MyF1Score(y_true, y_pred)\n",
    "    f1_1 = f1_score(y_true, y_pred)\n",
    "\n",
    "    eps = 1E-9\n",
    "\n",
    "    print(f\"MyPrecision     = {p0}\")\n",
    "    print(f\"precision_score = {p1}\")\n",
    "    if math.fabs(p0 - p1) > eps:\n",
    "        raise ValueError(\"Difference in MyPrecision and precision_score too big!\")\n",
    "\n",
    "    print(f\"MyRecall        = {r0}\")\n",
    "    print(f\"recall_score    = {r1}\")\n",
    "    if math.fabs(r0 - r1) > eps:\n",
    "        raise ValueError(\"Difference in MyRecall and recall_score too big!\")\n",
    "\n",
    "    print(f\"MyF1Score       = {f1_0}\")\n",
    "    print(f\"f1_score        = {f1_1}\")\n",
    "    if math.fabs(f1_0 - f1_1) > eps:\n",
    "        raise ValueError(\"Difference in MyF1Score and f1_score too big!\")\n",
    "\n",
    "print(\"SGD Performance Metrics\")\n",
    "TestMetrics(y_test_5, sgd_predict_5)\n",
    "print(\"=============\")\n",
    "print(\"Dummy Performance Metrics\")\n",
    "TestMetrics(y_test_5, dummy_pred)\n"
   ],
   "id": "254307ba58891c55",
   "outputs": [
    {
     "name": "stdout",
     "output_type": "stream",
     "text": [
      "SGD Performance Metrics\n",
      "MyPrecision     = 0.7123479887745556\n",
      "precision_score = 0.7123479887745556\n",
      "MyRecall        = 0.8428334255672385\n",
      "recall_score    = 0.8428334255672385\n",
      "MyF1Score       = 0.7721166032953104\n",
      "f1_score        = 0.7721166032953105\n",
      "=============\n",
      "Dummy Performance Metrics\n",
      "MyPrecision     = 0.0\n",
      "precision_score = 0.0\n",
      "MyRecall        = 0.0\n",
      "recall_score    = 0.0\n",
      "MyF1Score       = 0.0\n",
      "f1_score        = 0.0\n"
     ]
    },
    {
     "name": "stderr",
     "output_type": "stream",
     "text": [
      "/opt/anaconda3/lib/python3.13/site-packages/sklearn/metrics/_classification.py:1565: UndefinedMetricWarning: Precision is ill-defined and being set to 0.0 due to no predicted samples. Use `zero_division` parameter to control this behavior.\n",
      "  _warn_prf(average, modifier, f\"{metric.capitalize()} is\", len(result))\n"
     ]
    }
   ],
   "execution_count": 64
  },
  {
   "metadata": {},
   "cell_type": "markdown",
   "source": "### Qc The Confusion Matrix",
   "id": "8ffa3e27d37e40ef"
  },
  {
   "metadata": {
    "ExecuteTime": {
     "end_time": "2025-09-08T06:54:36.738157Z",
     "start_time": "2025-09-08T06:54:36.732111Z"
    }
   },
   "cell_type": "code",
   "source": [
    "from sklearn.metrics import confusion_matrix\n",
    "\n",
    "M_dummy = confusion_matrix(y_test_5, dummy_pred)\n",
    "M_SGD = confusion_matrix(y_test_5, sgd_predict_5)\n",
    "\n",
    "print(\"M_dummy:\\n\", M_dummy)\n",
    "print(\"M_SGD:\\n\", M_SGD)"
   ],
   "id": "d1084d58e35a333d",
   "outputs": [
    {
     "name": "stdout",
     "output_type": "stream",
     "text": [
      "M_dummy:\n",
      " [[18193     0]\n",
      " [ 1807     0]]\n",
      "M_SGD:\n",
      " [[17578   615]\n",
      " [  284  1523]]\n"
     ]
    }
   ],
   "execution_count": 65
  },
  {
   "metadata": {},
   "cell_type": "markdown",
   "source": "### Qd A Confusion Matrix Heat-map\n",
   "id": "4d5b7a24419ffad2"
  },
  {
   "metadata": {
    "ExecuteTime": {
     "end_time": "2025-09-08T06:54:36.856094Z",
     "start_time": "2025-09-08T06:54:36.744406Z"
    }
   },
   "cell_type": "code",
   "source": [
    "from sklearn.metrics import ConfusionMatrixDisplay\n",
    "import matplotlib.pyplot as plt\n",
    "\n",
    "ConfusionMatrixDisplay.from_predictions(y_test_5, sgd_predict_5, cmap=\"Grays\")\n",
    "plt.title(\"SGD Confusion Matrix\")\n",
    "plt.figure()\n",
    "ConfusionMatrixDisplay.from_predictions(y_test_5, dummy_pred, cmap=\"Grays\")\n",
    "plt.title(\"DummyClassifier Confusion Matrix\")\n",
    "plt.show()"
   ],
   "id": "d326eefd709f54e7",
   "outputs": [
    {
     "data": {
      "text/plain": [
       "<Figure size 640x480 with 2 Axes>"
      ],
      "image/png": "[encoded data removed]"
     },
     "metadata": {},
     "output_type": "display_data"
    },
    {
     "data": {
      "text/plain": [
       "<Figure size 640x480 with 0 Axes>"
      ]
     },
     "metadata": {},
     "output_type": "display_data"
    },
    {
     "data": {
      "text/plain": [
       "<Figure size 640x480 with 2 Axes>"
      ],
      "image/png": "[encoded data removed]"
     },
     "metadata": {},
     "output_type": "display_data"
    }
   ],
   "execution_count": 66
  },
  {
   "metadata": {},
   "cell_type": "markdown",
   "source": "### Qe Conclusion",
   "id": "e249e6d962ef9107"
  },
  {
   "metadata": {},
   "cell_type": "markdown",
   "source": [
    "### Answer\n",
    "\n",
    "These exercises gave great insight into the measuring of ML model performance, and in particular that one metric isn't enough. Looking at the DummyClassifiers recall score alone, might suggest that this model could have some potential. But the other scores truly show, that the classifier is utter trash.\n",
    "\n",
    "So the main takeaway is: before any model is released/used - test, test, test and analyze, analyze, aanalyze.\n"
   ],
   "id": "b7231533efe6acb3"
  }
 ],
 "metadata": {
  "kernelspec": {
   "display_name": "Python [conda env:base] *",
   "language": "python",
   "name": "conda-base-py"
  },
  "language_info": {
   "codemirror_mode": {
    "name": "ipython",
    "version": 3
   },
   "file_extension": ".py",
   "mimetype": "text/x-python",
   "name": "python",
   "nbconvert_exporter": "python",
   "pygments_lexer": "ipython3",
   "version": "3.13.5"
  }
 },
 "nbformat": 4,
 "nbformat_minor": 5
}
